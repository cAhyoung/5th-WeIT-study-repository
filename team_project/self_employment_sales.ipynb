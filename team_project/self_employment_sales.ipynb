{
 "cells": [
  {
   "cell_type": "code",
   "execution_count": 10,
   "metadata": {},
   "outputs": [],
   "source": [
    "import plotly.express as px\n",
    "import plotly.graph_objects as go\n",
    "import pandas as pd\n",
    "\n",
    "def extracting_data(data, option):\n",
    "  ### 구별 1인 가구수만 추출\n",
    "  extract_gu_sales = data[data[\"자치구별(1).1\"] == option]\n",
    "  extract_gu_sales = extract_gu_sales.T\n",
    "  extract_gu_sales.columns = [2018, 2019, 2020, 2021]\n",
    "  extract_gu_sales.drop([\"자치구별(1)\", \"자치구별(1).1\", \"서울시\"], inplace=True)\n",
    "  \n",
    "  return extract_gu_sales\n",
    "\n",
    "def vis_lineplot(data, title):\n",
    "  fig = go.Figure()\n",
    "\n",
    "  # 각 지역에 대해 선 그래프 추가\n",
    "  for idx, row in data.iterrows():\n",
    "      fig.add_trace(go.Scatter(x=data.columns, y=row, mode='lines+markers', name=idx))\n",
    "      \n",
    "  # 그래프 레이아웃 설정\n",
    "  fig.update_layout(\n",
    "      title=title,\n",
    "      xaxis_title='년도',\n",
    "      yaxis_title='매출액',\n",
    "      xaxis=dict(tickmode='linear'),  # x축 눈금 조정\n",
    "      legend_title='지역구',\n",
    "      template='plotly_white'\n",
    "  )\n",
    "\n",
    "  # 그래프 출력\n",
    "  fig.show()"
   ]
  },
  {
   "cell_type": "code",
   "execution_count": 2,
   "metadata": {},
   "outputs": [],
   "source": [
    "import matplotlib.pyplot as plt\n",
    "\n",
    "plt.rc('font', family='NanumBarunGothic') \n",
    "plt.rcParams['axes.unicode_minus'] =False"
   ]
  },
  {
   "cell_type": "code",
   "execution_count": 7,
   "metadata": {},
   "outputs": [
    {
     "data": {
      "text/html": [
       "<div>\n",
       "<style scoped>\n",
       "    .dataframe tbody tr th:only-of-type {\n",
       "        vertical-align: middle;\n",
       "    }\n",
       "\n",
       "    .dataframe tbody tr th {\n",
       "        vertical-align: top;\n",
       "    }\n",
       "\n",
       "    .dataframe thead th {\n",
       "        text-align: right;\n",
       "    }\n",
       "</style>\n",
       "<table border=\"1\" class=\"dataframe\">\n",
       "  <thead>\n",
       "    <tr style=\"text-align: right;\">\n",
       "      <th></th>\n",
       "      <th>자치구별(1)</th>\n",
       "      <th>자치구별(1).1</th>\n",
       "      <th>서울시</th>\n",
       "      <th>종로구</th>\n",
       "      <th>중구</th>\n",
       "      <th>용산구</th>\n",
       "      <th>성동구</th>\n",
       "      <th>광진구</th>\n",
       "      <th>동대문구</th>\n",
       "      <th>중랑구</th>\n",
       "      <th>...</th>\n",
       "      <th>강서구</th>\n",
       "      <th>구로구</th>\n",
       "      <th>금천구</th>\n",
       "      <th>영등포구</th>\n",
       "      <th>동작구</th>\n",
       "      <th>관악구</th>\n",
       "      <th>서초구</th>\n",
       "      <th>강남구</th>\n",
       "      <th>송파구</th>\n",
       "      <th>강동구</th>\n",
       "    </tr>\n",
       "  </thead>\n",
       "  <tbody>\n",
       "    <tr>\n",
       "      <th>0</th>\n",
       "      <td>2018</td>\n",
       "      <td>전체</td>\n",
       "      <td>174.3</td>\n",
       "      <td>179.9</td>\n",
       "      <td>212.3</td>\n",
       "      <td>198.7</td>\n",
       "      <td>221.0</td>\n",
       "      <td>157.5</td>\n",
       "      <td>192.8</td>\n",
       "      <td>135.4</td>\n",
       "      <td>...</td>\n",
       "      <td>170.2</td>\n",
       "      <td>196.5</td>\n",
       "      <td>181.4</td>\n",
       "      <td>183.9</td>\n",
       "      <td>170.7</td>\n",
       "      <td>147.6</td>\n",
       "      <td>194.3</td>\n",
       "      <td>206.6</td>\n",
       "      <td>201.9</td>\n",
       "      <td>146.1</td>\n",
       "    </tr>\n",
       "    <tr>\n",
       "      <th>1</th>\n",
       "      <td>2018</td>\n",
       "      <td>외식업</td>\n",
       "      <td>159.6</td>\n",
       "      <td>169.6</td>\n",
       "      <td>181.2</td>\n",
       "      <td>162.0</td>\n",
       "      <td>157.8</td>\n",
       "      <td>158.9</td>\n",
       "      <td>135.1</td>\n",
       "      <td>118.4</td>\n",
       "      <td>...</td>\n",
       "      <td>151.1</td>\n",
       "      <td>146.2</td>\n",
       "      <td>140.7</td>\n",
       "      <td>169.0</td>\n",
       "      <td>163.8</td>\n",
       "      <td>158.4</td>\n",
       "      <td>199.9</td>\n",
       "      <td>227.6</td>\n",
       "      <td>172.5</td>\n",
       "      <td>140.2</td>\n",
       "    </tr>\n",
       "    <tr>\n",
       "      <th>2</th>\n",
       "      <td>2018</td>\n",
       "      <td>서비스업</td>\n",
       "      <td>106.9</td>\n",
       "      <td>109.7</td>\n",
       "      <td>118.4</td>\n",
       "      <td>122.4</td>\n",
       "      <td>105.6</td>\n",
       "      <td>94.5</td>\n",
       "      <td>96.5</td>\n",
       "      <td>82.5</td>\n",
       "      <td>...</td>\n",
       "      <td>94.7</td>\n",
       "      <td>97.9</td>\n",
       "      <td>100.6</td>\n",
       "      <td>113.4</td>\n",
       "      <td>92.7</td>\n",
       "      <td>93.1</td>\n",
       "      <td>149.3</td>\n",
       "      <td>156.0</td>\n",
       "      <td>115.7</td>\n",
       "      <td>93.7</td>\n",
       "    </tr>\n",
       "    <tr>\n",
       "      <th>3</th>\n",
       "      <td>2018</td>\n",
       "      <td>소매업</td>\n",
       "      <td>243.9</td>\n",
       "      <td>212.3</td>\n",
       "      <td>233.5</td>\n",
       "      <td>270.2</td>\n",
       "      <td>364.6</td>\n",
       "      <td>223.0</td>\n",
       "      <td>286.6</td>\n",
       "      <td>202.1</td>\n",
       "      <td>...</td>\n",
       "      <td>269.0</td>\n",
       "      <td>298.9</td>\n",
       "      <td>261.3</td>\n",
       "      <td>259.7</td>\n",
       "      <td>262.0</td>\n",
       "      <td>203.0</td>\n",
       "      <td>247.7</td>\n",
       "      <td>261.3</td>\n",
       "      <td>310.4</td>\n",
       "      <td>208.0</td>\n",
       "    </tr>\n",
       "    <tr>\n",
       "      <th>4</th>\n",
       "      <td>2019</td>\n",
       "      <td>전체</td>\n",
       "      <td>190.8</td>\n",
       "      <td>200.2</td>\n",
       "      <td>244.9</td>\n",
       "      <td>255.1</td>\n",
       "      <td>260.5</td>\n",
       "      <td>170.8</td>\n",
       "      <td>204.7</td>\n",
       "      <td>146.0</td>\n",
       "      <td>...</td>\n",
       "      <td>183.6</td>\n",
       "      <td>238.3</td>\n",
       "      <td>239.5</td>\n",
       "      <td>199.4</td>\n",
       "      <td>162.5</td>\n",
       "      <td>144.3</td>\n",
       "      <td>193.2</td>\n",
       "      <td>207.9</td>\n",
       "      <td>250.4</td>\n",
       "      <td>146.0</td>\n",
       "    </tr>\n",
       "    <tr>\n",
       "      <th>5</th>\n",
       "      <td>2019</td>\n",
       "      <td>외식업</td>\n",
       "      <td>189.3</td>\n",
       "      <td>198.4</td>\n",
       "      <td>213.0</td>\n",
       "      <td>195.2</td>\n",
       "      <td>187.3</td>\n",
       "      <td>186.1</td>\n",
       "      <td>157.1</td>\n",
       "      <td>140.5</td>\n",
       "      <td>...</td>\n",
       "      <td>183.6</td>\n",
       "      <td>172.1</td>\n",
       "      <td>169.5</td>\n",
       "      <td>198.4</td>\n",
       "      <td>187.2</td>\n",
       "      <td>190.1</td>\n",
       "      <td>237.0</td>\n",
       "      <td>268.7</td>\n",
       "      <td>200.2</td>\n",
       "      <td>166.8</td>\n",
       "    </tr>\n",
       "    <tr>\n",
       "      <th>6</th>\n",
       "      <td>2019</td>\n",
       "      <td>서비스업</td>\n",
       "      <td>86.3</td>\n",
       "      <td>105.0</td>\n",
       "      <td>116.4</td>\n",
       "      <td>78.5</td>\n",
       "      <td>84.3</td>\n",
       "      <td>78.7</td>\n",
       "      <td>75.8</td>\n",
       "      <td>70.3</td>\n",
       "      <td>...</td>\n",
       "      <td>71.4</td>\n",
       "      <td>84.5</td>\n",
       "      <td>95.3</td>\n",
       "      <td>90.6</td>\n",
       "      <td>68.8</td>\n",
       "      <td>76.2</td>\n",
       "      <td>111.6</td>\n",
       "      <td>123.2</td>\n",
       "      <td>77.4</td>\n",
       "      <td>73.9</td>\n",
       "    </tr>\n",
       "    <tr>\n",
       "      <th>7</th>\n",
       "      <td>2019</td>\n",
       "      <td>소매업</td>\n",
       "      <td>322.0</td>\n",
       "      <td>252.5</td>\n",
       "      <td>283.2</td>\n",
       "      <td>445.6</td>\n",
       "      <td>481.1</td>\n",
       "      <td>295.2</td>\n",
       "      <td>329.3</td>\n",
       "      <td>242.4</td>\n",
       "      <td>...</td>\n",
       "      <td>363.5</td>\n",
       "      <td>400.0</td>\n",
       "      <td>383.2</td>\n",
       "      <td>338.4</td>\n",
       "      <td>299.6</td>\n",
       "      <td>232.8</td>\n",
       "      <td>318.0</td>\n",
       "      <td>346.4</td>\n",
       "      <td>536.1</td>\n",
       "      <td>246.5</td>\n",
       "    </tr>\n",
       "    <tr>\n",
       "      <th>8</th>\n",
       "      <td>2020</td>\n",
       "      <td>전체</td>\n",
       "      <td>126.5</td>\n",
       "      <td>138.8</td>\n",
       "      <td>169.2</td>\n",
       "      <td>140.3</td>\n",
       "      <td>155.4</td>\n",
       "      <td>115.3</td>\n",
       "      <td>151.0</td>\n",
       "      <td>112.6</td>\n",
       "      <td>...</td>\n",
       "      <td>120.7</td>\n",
       "      <td>152.2</td>\n",
       "      <td>145.4</td>\n",
       "      <td>134.6</td>\n",
       "      <td>122.8</td>\n",
       "      <td>111.1</td>\n",
       "      <td>126.2</td>\n",
       "      <td>130.5</td>\n",
       "      <td>127.9</td>\n",
       "      <td>110.6</td>\n",
       "    </tr>\n",
       "    <tr>\n",
       "      <th>9</th>\n",
       "      <td>2020</td>\n",
       "      <td>외식업</td>\n",
       "      <td>142.4</td>\n",
       "      <td>134.6</td>\n",
       "      <td>144.1</td>\n",
       "      <td>141.1</td>\n",
       "      <td>142.6</td>\n",
       "      <td>135.7</td>\n",
       "      <td>126.7</td>\n",
       "      <td>116.6</td>\n",
       "      <td>...</td>\n",
       "      <td>141.5</td>\n",
       "      <td>133.4</td>\n",
       "      <td>136.2</td>\n",
       "      <td>148.0</td>\n",
       "      <td>143.1</td>\n",
       "      <td>144.4</td>\n",
       "      <td>171.0</td>\n",
       "      <td>189.6</td>\n",
       "      <td>151.7</td>\n",
       "      <td>135.0</td>\n",
       "    </tr>\n",
       "    <tr>\n",
       "      <th>10</th>\n",
       "      <td>2020</td>\n",
       "      <td>서비스업</td>\n",
       "      <td>61.1</td>\n",
       "      <td>66.2</td>\n",
       "      <td>76.8</td>\n",
       "      <td>56.7</td>\n",
       "      <td>61.6</td>\n",
       "      <td>56.9</td>\n",
       "      <td>56.4</td>\n",
       "      <td>53.9</td>\n",
       "      <td>...</td>\n",
       "      <td>52.2</td>\n",
       "      <td>59.7</td>\n",
       "      <td>64.4</td>\n",
       "      <td>60.7</td>\n",
       "      <td>54.1</td>\n",
       "      <td>59.9</td>\n",
       "      <td>77.6</td>\n",
       "      <td>80.2</td>\n",
       "      <td>55.0</td>\n",
       "      <td>57.3</td>\n",
       "    </tr>\n",
       "    <tr>\n",
       "      <th>11</th>\n",
       "      <td>2020</td>\n",
       "      <td>소매업</td>\n",
       "      <td>203.8</td>\n",
       "      <td>181.4</td>\n",
       "      <td>196.1</td>\n",
       "      <td>240.5</td>\n",
       "      <td>282.3</td>\n",
       "      <td>184.4</td>\n",
       "      <td>252.2</td>\n",
       "      <td>180.5</td>\n",
       "      <td>...</td>\n",
       "      <td>214.2</td>\n",
       "      <td>253.2</td>\n",
       "      <td>220.1</td>\n",
       "      <td>221.9</td>\n",
       "      <td>220.0</td>\n",
       "      <td>165.9</td>\n",
       "      <td>200.9</td>\n",
       "      <td>207.7</td>\n",
       "      <td>247.5</td>\n",
       "      <td>177.9</td>\n",
       "    </tr>\n",
       "    <tr>\n",
       "      <th>12</th>\n",
       "      <td>2021</td>\n",
       "      <td>전체</td>\n",
       "      <td>284.5</td>\n",
       "      <td>311.8</td>\n",
       "      <td>353.8</td>\n",
       "      <td>443.7</td>\n",
       "      <td>446.2</td>\n",
       "      <td>230.3</td>\n",
       "      <td>268.5</td>\n",
       "      <td>187.5</td>\n",
       "      <td>...</td>\n",
       "      <td>299.0</td>\n",
       "      <td>313.7</td>\n",
       "      <td>313.8</td>\n",
       "      <td>325.2</td>\n",
       "      <td>234.6</td>\n",
       "      <td>181.5</td>\n",
       "      <td>308.3</td>\n",
       "      <td>369.1</td>\n",
       "      <td>409.0</td>\n",
       "      <td>227.9</td>\n",
       "    </tr>\n",
       "    <tr>\n",
       "      <th>13</th>\n",
       "      <td>2021</td>\n",
       "      <td>외식업</td>\n",
       "      <td>199.0</td>\n",
       "      <td>194.9</td>\n",
       "      <td>224.4</td>\n",
       "      <td>218.6</td>\n",
       "      <td>203.2</td>\n",
       "      <td>183.1</td>\n",
       "      <td>159.9</td>\n",
       "      <td>143.0</td>\n",
       "      <td>...</td>\n",
       "      <td>188.9</td>\n",
       "      <td>177.5</td>\n",
       "      <td>178.4</td>\n",
       "      <td>212.9</td>\n",
       "      <td>187.6</td>\n",
       "      <td>186.7</td>\n",
       "      <td>247.3</td>\n",
       "      <td>280.6</td>\n",
       "      <td>240.2</td>\n",
       "      <td>200.3</td>\n",
       "    </tr>\n",
       "    <tr>\n",
       "      <th>14</th>\n",
       "      <td>2021</td>\n",
       "      <td>서비스업</td>\n",
       "      <td>161.3</td>\n",
       "      <td>127.3</td>\n",
       "      <td>245.7</td>\n",
       "      <td>212.4</td>\n",
       "      <td>158.3</td>\n",
       "      <td>131.0</td>\n",
       "      <td>114.0</td>\n",
       "      <td>117.0</td>\n",
       "      <td>...</td>\n",
       "      <td>142.5</td>\n",
       "      <td>142.0</td>\n",
       "      <td>195.3</td>\n",
       "      <td>151.0</td>\n",
       "      <td>121.0</td>\n",
       "      <td>108.6</td>\n",
       "      <td>234.5</td>\n",
       "      <td>286.6</td>\n",
       "      <td>162.4</td>\n",
       "      <td>141.8</td>\n",
       "    </tr>\n",
       "    <tr>\n",
       "      <th>15</th>\n",
       "      <td>2021</td>\n",
       "      <td>소매업</td>\n",
       "      <td>416.2</td>\n",
       "      <td>441.0</td>\n",
       "      <td>404.4</td>\n",
       "      <td>691.6</td>\n",
       "      <td>735.7</td>\n",
       "      <td>341.0</td>\n",
       "      <td>401.6</td>\n",
       "      <td>265.1</td>\n",
       "      <td>...</td>\n",
       "      <td>482.8</td>\n",
       "      <td>462.5</td>\n",
       "      <td>432.3</td>\n",
       "      <td>511.2</td>\n",
       "      <td>359.0</td>\n",
       "      <td>244.2</td>\n",
       "      <td>409.7</td>\n",
       "      <td>510.0</td>\n",
       "      <td>658.8</td>\n",
       "      <td>315.8</td>\n",
       "    </tr>\n",
       "  </tbody>\n",
       "</table>\n",
       "<p>16 rows × 28 columns</p>\n",
       "</div>"
      ],
      "text/plain": [
       "    자치구별(1) 자치구별(1).1    서울시    종로구     중구    용산구    성동구    광진구   동대문구    중랑구  \\\n",
       "0      2018        전체  174.3  179.9  212.3  198.7  221.0  157.5  192.8  135.4   \n",
       "1      2018       외식업  159.6  169.6  181.2  162.0  157.8  158.9  135.1  118.4   \n",
       "2      2018      서비스업  106.9  109.7  118.4  122.4  105.6   94.5   96.5   82.5   \n",
       "3      2018       소매업  243.9  212.3  233.5  270.2  364.6  223.0  286.6  202.1   \n",
       "4      2019        전체  190.8  200.2  244.9  255.1  260.5  170.8  204.7  146.0   \n",
       "5      2019       외식업  189.3  198.4  213.0  195.2  187.3  186.1  157.1  140.5   \n",
       "6      2019      서비스업   86.3  105.0  116.4   78.5   84.3   78.7   75.8   70.3   \n",
       "7      2019       소매업  322.0  252.5  283.2  445.6  481.1  295.2  329.3  242.4   \n",
       "8      2020        전체  126.5  138.8  169.2  140.3  155.4  115.3  151.0  112.6   \n",
       "9      2020       외식업  142.4  134.6  144.1  141.1  142.6  135.7  126.7  116.6   \n",
       "10     2020      서비스업   61.1   66.2   76.8   56.7   61.6   56.9   56.4   53.9   \n",
       "11     2020       소매업  203.8  181.4  196.1  240.5  282.3  184.4  252.2  180.5   \n",
       "12     2021        전체  284.5  311.8  353.8  443.7  446.2  230.3  268.5  187.5   \n",
       "13     2021       외식업  199.0  194.9  224.4  218.6  203.2  183.1  159.9  143.0   \n",
       "14     2021      서비스업  161.3  127.3  245.7  212.4  158.3  131.0  114.0  117.0   \n",
       "15     2021       소매업  416.2  441.0  404.4  691.6  735.7  341.0  401.6  265.1   \n",
       "\n",
       "    ...    강서구    구로구    금천구   영등포구    동작구    관악구    서초구    강남구    송파구    강동구  \n",
       "0   ...  170.2  196.5  181.4  183.9  170.7  147.6  194.3  206.6  201.9  146.1  \n",
       "1   ...  151.1  146.2  140.7  169.0  163.8  158.4  199.9  227.6  172.5  140.2  \n",
       "2   ...   94.7   97.9  100.6  113.4   92.7   93.1  149.3  156.0  115.7   93.7  \n",
       "3   ...  269.0  298.9  261.3  259.7  262.0  203.0  247.7  261.3  310.4  208.0  \n",
       "4   ...  183.6  238.3  239.5  199.4  162.5  144.3  193.2  207.9  250.4  146.0  \n",
       "5   ...  183.6  172.1  169.5  198.4  187.2  190.1  237.0  268.7  200.2  166.8  \n",
       "6   ...   71.4   84.5   95.3   90.6   68.8   76.2  111.6  123.2   77.4   73.9  \n",
       "7   ...  363.5  400.0  383.2  338.4  299.6  232.8  318.0  346.4  536.1  246.5  \n",
       "8   ...  120.7  152.2  145.4  134.6  122.8  111.1  126.2  130.5  127.9  110.6  \n",
       "9   ...  141.5  133.4  136.2  148.0  143.1  144.4  171.0  189.6  151.7  135.0  \n",
       "10  ...   52.2   59.7   64.4   60.7   54.1   59.9   77.6   80.2   55.0   57.3  \n",
       "11  ...  214.2  253.2  220.1  221.9  220.0  165.9  200.9  207.7  247.5  177.9  \n",
       "12  ...  299.0  313.7  313.8  325.2  234.6  181.5  308.3  369.1  409.0  227.9  \n",
       "13  ...  188.9  177.5  178.4  212.9  187.6  186.7  247.3  280.6  240.2  200.3  \n",
       "14  ...  142.5  142.0  195.3  151.0  121.0  108.6  234.5  286.6  162.4  141.8  \n",
       "15  ...  482.8  462.5  432.3  511.2  359.0  244.2  409.7  510.0  658.8  315.8  \n",
       "\n",
       "[16 rows x 28 columns]"
      ]
     },
     "execution_count": 7,
     "metadata": {},
     "output_type": "execute_result"
    }
   ],
   "source": [
    "data = pd.read_excel(\"영세자영업자_지역별_매출액.xlsx\", sheet_name=\"transpose_data\")\n",
    "data"
   ]
  },
  {
   "cell_type": "code",
   "execution_count": 12,
   "metadata": {},
   "outputs": [
    {
     "data": {
      "application/vnd.plotly.v1+json": {
       "config": {
        "plotlyServerURL": "https://plot.ly"
       },
       "data": [
        {
         "mode": "lines+markers",
         "name": "종로구",
         "type": "scatter",
         "x": [
          2018,
          2019,
          2020,
          2021
         ],
         "y": [
          179.9,
          200.2,
          138.8,
          311.8
         ]
        },
        {
         "mode": "lines+markers",
         "name": "중구",
         "type": "scatter",
         "x": [
          2018,
          2019,
          2020,
          2021
         ],
         "y": [
          212.3,
          244.9,
          169.2,
          353.8
         ]
        },
        {
         "mode": "lines+markers",
         "name": "용산구",
         "type": "scatter",
         "x": [
          2018,
          2019,
          2020,
          2021
         ],
         "y": [
          198.7,
          255.1,
          140.3,
          443.7
         ]
        },
        {
         "mode": "lines+markers",
         "name": "성동구",
         "type": "scatter",
         "x": [
          2018,
          2019,
          2020,
          2021
         ],
         "y": [
          221,
          260.5,
          155.4,
          446.2
         ]
        },
        {
         "mode": "lines+markers",
         "name": "광진구",
         "type": "scatter",
         "x": [
          2018,
          2019,
          2020,
          2021
         ],
         "y": [
          157.5,
          170.8,
          115.3,
          230.3
         ]
        },
        {
         "mode": "lines+markers",
         "name": "동대문구",
         "type": "scatter",
         "x": [
          2018,
          2019,
          2020,
          2021
         ],
         "y": [
          192.8,
          204.7,
          151,
          268.5
         ]
        },
        {
         "mode": "lines+markers",
         "name": "중랑구",
         "type": "scatter",
         "x": [
          2018,
          2019,
          2020,
          2021
         ],
         "y": [
          135.4,
          146,
          112.6,
          187.5
         ]
        },
        {
         "mode": "lines+markers",
         "name": "성북구",
         "type": "scatter",
         "x": [
          2018,
          2019,
          2020,
          2021
         ],
         "y": [
          141.2,
          142.5,
          108.3,
          179.8
         ]
        },
        {
         "mode": "lines+markers",
         "name": "강북구",
         "type": "scatter",
         "x": [
          2018,
          2019,
          2020,
          2021
         ],
         "y": [
          139.6,
          141.1,
          112.7,
          179.2
         ]
        },
        {
         "mode": "lines+markers",
         "name": "도봉구",
         "type": "scatter",
         "x": [
          2018,
          2019,
          2020,
          2021
         ],
         "y": [
          134.1,
          137.5,
          110.1,
          172.5
         ]
        },
        {
         "mode": "lines+markers",
         "name": "노원구",
         "type": "scatter",
         "x": [
          2018,
          2019,
          2020,
          2021
         ],
         "y": [
          146.2,
          144.7,
          108.1,
          177.4
         ]
        },
        {
         "mode": "lines+markers",
         "name": "은평구",
         "type": "scatter",
         "x": [
          2018,
          2019,
          2020,
          2021
         ],
         "y": [
          130.5,
          132.5,
          102.8,
          171.3
         ]
        },
        {
         "mode": "lines+markers",
         "name": "서대문구",
         "type": "scatter",
         "x": [
          2018,
          2019,
          2020,
          2021
         ],
         "y": [
          141.1,
          146.6,
          106.3,
          195.1
         ]
        },
        {
         "mode": "lines+markers",
         "name": "마포구",
         "type": "scatter",
         "x": [
          2018,
          2019,
          2020,
          2021
         ],
         "y": [
          162,
          173.6,
          112.8,
          237.6
         ]
        },
        {
         "mode": "lines+markers",
         "name": "양천구",
         "type": "scatter",
         "x": [
          2018,
          2019,
          2020,
          2021
         ],
         "y": [
          141.8,
          143.2,
          105.4,
          193.8
         ]
        },
        {
         "mode": "lines+markers",
         "name": "강서구",
         "type": "scatter",
         "x": [
          2018,
          2019,
          2020,
          2021
         ],
         "y": [
          170.2,
          183.6,
          120.7,
          299
         ]
        },
        {
         "mode": "lines+markers",
         "name": "구로구",
         "type": "scatter",
         "x": [
          2018,
          2019,
          2020,
          2021
         ],
         "y": [
          196.5,
          238.3,
          152.2,
          313.7
         ]
        },
        {
         "mode": "lines+markers",
         "name": "금천구",
         "type": "scatter",
         "x": [
          2018,
          2019,
          2020,
          2021
         ],
         "y": [
          181.4,
          239.5,
          145.4,
          313.8
         ]
        },
        {
         "mode": "lines+markers",
         "name": "영등포구",
         "type": "scatter",
         "x": [
          2018,
          2019,
          2020,
          2021
         ],
         "y": [
          183.9,
          199.4,
          134.6,
          325.2
         ]
        },
        {
         "mode": "lines+markers",
         "name": "동작구",
         "type": "scatter",
         "x": [
          2018,
          2019,
          2020,
          2021
         ],
         "y": [
          170.7,
          162.5,
          122.8,
          234.6
         ]
        },
        {
         "mode": "lines+markers",
         "name": "관악구",
         "type": "scatter",
         "x": [
          2018,
          2019,
          2020,
          2021
         ],
         "y": [
          147.6,
          144.3,
          111.1,
          181.5
         ]
        },
        {
         "mode": "lines+markers",
         "name": "서초구",
         "type": "scatter",
         "x": [
          2018,
          2019,
          2020,
          2021
         ],
         "y": [
          194.3,
          193.2,
          126.2,
          308.3
         ]
        },
        {
         "mode": "lines+markers",
         "name": "강남구",
         "type": "scatter",
         "x": [
          2018,
          2019,
          2020,
          2021
         ],
         "y": [
          206.6,
          207.9,
          130.5,
          369.1
         ]
        },
        {
         "mode": "lines+markers",
         "name": "송파구",
         "type": "scatter",
         "x": [
          2018,
          2019,
          2020,
          2021
         ],
         "y": [
          201.9,
          250.4,
          127.9,
          409
         ]
        },
        {
         "mode": "lines+markers",
         "name": "강동구",
         "type": "scatter",
         "x": [
          2018,
          2019,
          2020,
          2021
         ],
         "y": [
          146.1,
          146,
          110.6,
          227.9
         ]
        }
       ],
       "layout": {
        "legend": {
         "title": {
          "text": "지역구"
         }
        },
        "template": {
         "data": {
          "bar": [
           {
            "error_x": {
             "color": "#2a3f5f"
            },
            "error_y": {
             "color": "#2a3f5f"
            },
            "marker": {
             "line": {
              "color": "white",
              "width": 0.5
             },
             "pattern": {
              "fillmode": "overlay",
              "size": 10,
              "solidity": 0.2
             }
            },
            "type": "bar"
           }
          ],
          "barpolar": [
           {
            "marker": {
             "line": {
              "color": "white",
              "width": 0.5
             },
             "pattern": {
              "fillmode": "overlay",
              "size": 10,
              "solidity": 0.2
             }
            },
            "type": "barpolar"
           }
          ],
          "carpet": [
           {
            "aaxis": {
             "endlinecolor": "#2a3f5f",
             "gridcolor": "#C8D4E3",
             "linecolor": "#C8D4E3",
             "minorgridcolor": "#C8D4E3",
             "startlinecolor": "#2a3f5f"
            },
            "baxis": {
             "endlinecolor": "#2a3f5f",
             "gridcolor": "#C8D4E3",
             "linecolor": "#C8D4E3",
             "minorgridcolor": "#C8D4E3",
             "startlinecolor": "#2a3f5f"
            },
            "type": "carpet"
           }
          ],
          "choropleth": [
           {
            "colorbar": {
             "outlinewidth": 0,
             "ticks": ""
            },
            "type": "choropleth"
           }
          ],
          "contour": [
           {
            "colorbar": {
             "outlinewidth": 0,
             "ticks": ""
            },
            "colorscale": [
             [
              0,
              "#0d0887"
             ],
             [
              0.1111111111111111,
              "#46039f"
             ],
             [
              0.2222222222222222,
              "#7201a8"
             ],
             [
              0.3333333333333333,
              "#9c179e"
             ],
             [
              0.4444444444444444,
              "#bd3786"
             ],
             [
              0.5555555555555556,
              "#d8576b"
             ],
             [
              0.6666666666666666,
              "#ed7953"
             ],
             [
              0.7777777777777778,
              "#fb9f3a"
             ],
             [
              0.8888888888888888,
              "#fdca26"
             ],
             [
              1,
              "#f0f921"
             ]
            ],
            "type": "contour"
           }
          ],
          "contourcarpet": [
           {
            "colorbar": {
             "outlinewidth": 0,
             "ticks": ""
            },
            "type": "contourcarpet"
           }
          ],
          "heatmap": [
           {
            "colorbar": {
             "outlinewidth": 0,
             "ticks": ""
            },
            "colorscale": [
             [
              0,
              "#0d0887"
             ],
             [
              0.1111111111111111,
              "#46039f"
             ],
             [
              0.2222222222222222,
              "#7201a8"
             ],
             [
              0.3333333333333333,
              "#9c179e"
             ],
             [
              0.4444444444444444,
              "#bd3786"
             ],
             [
              0.5555555555555556,
              "#d8576b"
             ],
             [
              0.6666666666666666,
              "#ed7953"
             ],
             [
              0.7777777777777778,
              "#fb9f3a"
             ],
             [
              0.8888888888888888,
              "#fdca26"
             ],
             [
              1,
              "#f0f921"
             ]
            ],
            "type": "heatmap"
           }
          ],
          "heatmapgl": [
           {
            "colorbar": {
             "outlinewidth": 0,
             "ticks": ""
            },
            "colorscale": [
             [
              0,
              "#0d0887"
             ],
             [
              0.1111111111111111,
              "#46039f"
             ],
             [
              0.2222222222222222,
              "#7201a8"
             ],
             [
              0.3333333333333333,
              "#9c179e"
             ],
             [
              0.4444444444444444,
              "#bd3786"
             ],
             [
              0.5555555555555556,
              "#d8576b"
             ],
             [
              0.6666666666666666,
              "#ed7953"
             ],
             [
              0.7777777777777778,
              "#fb9f3a"
             ],
             [
              0.8888888888888888,
              "#fdca26"
             ],
             [
              1,
              "#f0f921"
             ]
            ],
            "type": "heatmapgl"
           }
          ],
          "histogram": [
           {
            "marker": {
             "pattern": {
              "fillmode": "overlay",
              "size": 10,
              "solidity": 0.2
             }
            },
            "type": "histogram"
           }
          ],
          "histogram2d": [
           {
            "colorbar": {
             "outlinewidth": 0,
             "ticks": ""
            },
            "colorscale": [
             [
              0,
              "#0d0887"
             ],
             [
              0.1111111111111111,
              "#46039f"
             ],
             [
              0.2222222222222222,
              "#7201a8"
             ],
             [
              0.3333333333333333,
              "#9c179e"
             ],
             [
              0.4444444444444444,
              "#bd3786"
             ],
             [
              0.5555555555555556,
              "#d8576b"
             ],
             [
              0.6666666666666666,
              "#ed7953"
             ],
             [
              0.7777777777777778,
              "#fb9f3a"
             ],
             [
              0.8888888888888888,
              "#fdca26"
             ],
             [
              1,
              "#f0f921"
             ]
            ],
            "type": "histogram2d"
           }
          ],
          "histogram2dcontour": [
           {
            "colorbar": {
             "outlinewidth": 0,
             "ticks": ""
            },
            "colorscale": [
             [
              0,
              "#0d0887"
             ],
             [
              0.1111111111111111,
              "#46039f"
             ],
             [
              0.2222222222222222,
              "#7201a8"
             ],
             [
              0.3333333333333333,
              "#9c179e"
             ],
             [
              0.4444444444444444,
              "#bd3786"
             ],
             [
              0.5555555555555556,
              "#d8576b"
             ],
             [
              0.6666666666666666,
              "#ed7953"
             ],
             [
              0.7777777777777778,
              "#fb9f3a"
             ],
             [
              0.8888888888888888,
              "#fdca26"
             ],
             [
              1,
              "#f0f921"
             ]
            ],
            "type": "histogram2dcontour"
           }
          ],
          "mesh3d": [
           {
            "colorbar": {
             "outlinewidth": 0,
             "ticks": ""
            },
            "type": "mesh3d"
           }
          ],
          "parcoords": [
           {
            "line": {
             "colorbar": {
              "outlinewidth": 0,
              "ticks": ""
             }
            },
            "type": "parcoords"
           }
          ],
          "pie": [
           {
            "automargin": true,
            "type": "pie"
           }
          ],
          "scatter": [
           {
            "fillpattern": {
             "fillmode": "overlay",
             "size": 10,
             "solidity": 0.2
            },
            "type": "scatter"
           }
          ],
          "scatter3d": [
           {
            "line": {
             "colorbar": {
              "outlinewidth": 0,
              "ticks": ""
             }
            },
            "marker": {
             "colorbar": {
              "outlinewidth": 0,
              "ticks": ""
             }
            },
            "type": "scatter3d"
           }
          ],
          "scattercarpet": [
           {
            "marker": {
             "colorbar": {
              "outlinewidth": 0,
              "ticks": ""
             }
            },
            "type": "scattercarpet"
           }
          ],
          "scattergeo": [
           {
            "marker": {
             "colorbar": {
              "outlinewidth": 0,
              "ticks": ""
             }
            },
            "type": "scattergeo"
           }
          ],
          "scattergl": [
           {
            "marker": {
             "colorbar": {
              "outlinewidth": 0,
              "ticks": ""
             }
            },
            "type": "scattergl"
           }
          ],
          "scattermapbox": [
           {
            "marker": {
             "colorbar": {
              "outlinewidth": 0,
              "ticks": ""
             }
            },
            "type": "scattermapbox"
           }
          ],
          "scatterpolar": [
           {
            "marker": {
             "colorbar": {
              "outlinewidth": 0,
              "ticks": ""
             }
            },
            "type": "scatterpolar"
           }
          ],
          "scatterpolargl": [
           {
            "marker": {
             "colorbar": {
              "outlinewidth": 0,
              "ticks": ""
             }
            },
            "type": "scatterpolargl"
           }
          ],
          "scatterternary": [
           {
            "marker": {
             "colorbar": {
              "outlinewidth": 0,
              "ticks": ""
             }
            },
            "type": "scatterternary"
           }
          ],
          "surface": [
           {
            "colorbar": {
             "outlinewidth": 0,
             "ticks": ""
            },
            "colorscale": [
             [
              0,
              "#0d0887"
             ],
             [
              0.1111111111111111,
              "#46039f"
             ],
             [
              0.2222222222222222,
              "#7201a8"
             ],
             [
              0.3333333333333333,
              "#9c179e"
             ],
             [
              0.4444444444444444,
              "#bd3786"
             ],
             [
              0.5555555555555556,
              "#d8576b"
             ],
             [
              0.6666666666666666,
              "#ed7953"
             ],
             [
              0.7777777777777778,
              "#fb9f3a"
             ],
             [
              0.8888888888888888,
              "#fdca26"
             ],
             [
              1,
              "#f0f921"
             ]
            ],
            "type": "surface"
           }
          ],
          "table": [
           {
            "cells": {
             "fill": {
              "color": "#EBF0F8"
             },
             "line": {
              "color": "white"
             }
            },
            "header": {
             "fill": {
              "color": "#C8D4E3"
             },
             "line": {
              "color": "white"
             }
            },
            "type": "table"
           }
          ]
         },
         "layout": {
          "annotationdefaults": {
           "arrowcolor": "#2a3f5f",
           "arrowhead": 0,
           "arrowwidth": 1
          },
          "autotypenumbers": "strict",
          "coloraxis": {
           "colorbar": {
            "outlinewidth": 0,
            "ticks": ""
           }
          },
          "colorscale": {
           "diverging": [
            [
             0,
             "#8e0152"
            ],
            [
             0.1,
             "#c51b7d"
            ],
            [
             0.2,
             "#de77ae"
            ],
            [
             0.3,
             "#f1b6da"
            ],
            [
             0.4,
             "#fde0ef"
            ],
            [
             0.5,
             "#f7f7f7"
            ],
            [
             0.6,
             "#e6f5d0"
            ],
            [
             0.7,
             "#b8e186"
            ],
            [
             0.8,
             "#7fbc41"
            ],
            [
             0.9,
             "#4d9221"
            ],
            [
             1,
             "#276419"
            ]
           ],
           "sequential": [
            [
             0,
             "#0d0887"
            ],
            [
             0.1111111111111111,
             "#46039f"
            ],
            [
             0.2222222222222222,
             "#7201a8"
            ],
            [
             0.3333333333333333,
             "#9c179e"
            ],
            [
             0.4444444444444444,
             "#bd3786"
            ],
            [
             0.5555555555555556,
             "#d8576b"
            ],
            [
             0.6666666666666666,
             "#ed7953"
            ],
            [
             0.7777777777777778,
             "#fb9f3a"
            ],
            [
             0.8888888888888888,
             "#fdca26"
            ],
            [
             1,
             "#f0f921"
            ]
           ],
           "sequentialminus": [
            [
             0,
             "#0d0887"
            ],
            [
             0.1111111111111111,
             "#46039f"
            ],
            [
             0.2222222222222222,
             "#7201a8"
            ],
            [
             0.3333333333333333,
             "#9c179e"
            ],
            [
             0.4444444444444444,
             "#bd3786"
            ],
            [
             0.5555555555555556,
             "#d8576b"
            ],
            [
             0.6666666666666666,
             "#ed7953"
            ],
            [
             0.7777777777777778,
             "#fb9f3a"
            ],
            [
             0.8888888888888888,
             "#fdca26"
            ],
            [
             1,
             "#f0f921"
            ]
           ]
          },
          "colorway": [
           "#636efa",
           "#EF553B",
           "#00cc96",
           "#ab63fa",
           "#FFA15A",
           "#19d3f3",
           "#FF6692",
           "#B6E880",
           "#FF97FF",
           "#FECB52"
          ],
          "font": {
           "color": "#2a3f5f"
          },
          "geo": {
           "bgcolor": "white",
           "lakecolor": "white",
           "landcolor": "white",
           "showlakes": true,
           "showland": true,
           "subunitcolor": "#C8D4E3"
          },
          "hoverlabel": {
           "align": "left"
          },
          "hovermode": "closest",
          "mapbox": {
           "style": "light"
          },
          "paper_bgcolor": "white",
          "plot_bgcolor": "white",
          "polar": {
           "angularaxis": {
            "gridcolor": "#EBF0F8",
            "linecolor": "#EBF0F8",
            "ticks": ""
           },
           "bgcolor": "white",
           "radialaxis": {
            "gridcolor": "#EBF0F8",
            "linecolor": "#EBF0F8",
            "ticks": ""
           }
          },
          "scene": {
           "xaxis": {
            "backgroundcolor": "white",
            "gridcolor": "#DFE8F3",
            "gridwidth": 2,
            "linecolor": "#EBF0F8",
            "showbackground": true,
            "ticks": "",
            "zerolinecolor": "#EBF0F8"
           },
           "yaxis": {
            "backgroundcolor": "white",
            "gridcolor": "#DFE8F3",
            "gridwidth": 2,
            "linecolor": "#EBF0F8",
            "showbackground": true,
            "ticks": "",
            "zerolinecolor": "#EBF0F8"
           },
           "zaxis": {
            "backgroundcolor": "white",
            "gridcolor": "#DFE8F3",
            "gridwidth": 2,
            "linecolor": "#EBF0F8",
            "showbackground": true,
            "ticks": "",
            "zerolinecolor": "#EBF0F8"
           }
          },
          "shapedefaults": {
           "line": {
            "color": "#2a3f5f"
           }
          },
          "ternary": {
           "aaxis": {
            "gridcolor": "#DFE8F3",
            "linecolor": "#A2B1C6",
            "ticks": ""
           },
           "baxis": {
            "gridcolor": "#DFE8F3",
            "linecolor": "#A2B1C6",
            "ticks": ""
           },
           "bgcolor": "white",
           "caxis": {
            "gridcolor": "#DFE8F3",
            "linecolor": "#A2B1C6",
            "ticks": ""
           }
          },
          "title": {
           "x": 0.05
          },
          "xaxis": {
           "automargin": true,
           "gridcolor": "#EBF0F8",
           "linecolor": "#EBF0F8",
           "ticks": "",
           "title": {
            "standoff": 15
           },
           "zerolinecolor": "#EBF0F8",
           "zerolinewidth": 2
          },
          "yaxis": {
           "automargin": true,
           "gridcolor": "#EBF0F8",
           "linecolor": "#EBF0F8",
           "ticks": "",
           "title": {
            "standoff": 15
           },
           "zerolinecolor": "#EBF0F8",
           "zerolinewidth": 2
          }
         }
        },
        "title": {
         "text": "전체 추이"
        },
        "xaxis": {
         "tickmode": "linear",
         "title": {
          "text": "년도"
         }
        },
        "yaxis": {
         "title": {
          "text": "매출액"
         }
        }
       }
      }
     },
     "metadata": {},
     "output_type": "display_data"
    },
    {
     "data": {
      "application/vnd.plotly.v1+json": {
       "config": {
        "plotlyServerURL": "https://plot.ly"
       },
       "data": [
        {
         "mode": "lines+markers",
         "name": "종로구",
         "type": "scatter",
         "x": [
          2018,
          2019,
          2020,
          2021
         ],
         "y": [
          169.6,
          198.4,
          134.6,
          194.9
         ]
        },
        {
         "mode": "lines+markers",
         "name": "중구",
         "type": "scatter",
         "x": [
          2018,
          2019,
          2020,
          2021
         ],
         "y": [
          181.2,
          213,
          144.1,
          224.4
         ]
        },
        {
         "mode": "lines+markers",
         "name": "용산구",
         "type": "scatter",
         "x": [
          2018,
          2019,
          2020,
          2021
         ],
         "y": [
          162,
          195.2,
          141.1,
          218.6
         ]
        },
        {
         "mode": "lines+markers",
         "name": "성동구",
         "type": "scatter",
         "x": [
          2018,
          2019,
          2020,
          2021
         ],
         "y": [
          157.8,
          187.3,
          142.6,
          203.2
         ]
        },
        {
         "mode": "lines+markers",
         "name": "광진구",
         "type": "scatter",
         "x": [
          2018,
          2019,
          2020,
          2021
         ],
         "y": [
          158.9,
          186.1,
          135.7,
          183.1
         ]
        },
        {
         "mode": "lines+markers",
         "name": "동대문구",
         "type": "scatter",
         "x": [
          2018,
          2019,
          2020,
          2021
         ],
         "y": [
          135.1,
          157.1,
          126.7,
          159.9
         ]
        },
        {
         "mode": "lines+markers",
         "name": "중랑구",
         "type": "scatter",
         "x": [
          2018,
          2019,
          2020,
          2021
         ],
         "y": [
          118.4,
          140.5,
          116.6,
          143
         ]
        },
        {
         "mode": "lines+markers",
         "name": "성북구",
         "type": "scatter",
         "x": [
          2018,
          2019,
          2020,
          2021
         ],
         "y": [
          136.4,
          160.3,
          129.9,
          171.3
         ]
        },
        {
         "mode": "lines+markers",
         "name": "강북구",
         "type": "scatter",
         "x": [
          2018,
          2019,
          2020,
          2021
         ],
         "y": [
          123.3,
          145.9,
          120.1,
          144.7
         ]
        },
        {
         "mode": "lines+markers",
         "name": "도봉구",
         "type": "scatter",
         "x": [
          2018,
          2019,
          2020,
          2021
         ],
         "y": [
          118.1,
          137.6,
          119.4,
          151.5
         ]
        },
        {
         "mode": "lines+markers",
         "name": "노원구",
         "type": "scatter",
         "x": [
          2018,
          2019,
          2020,
          2021
         ],
         "y": [
          151.7,
          182.4,
          143.2,
          177
         ]
        },
        {
         "mode": "lines+markers",
         "name": "은평구",
         "type": "scatter",
         "x": [
          2018,
          2019,
          2020,
          2021
         ],
         "y": [
          131,
          153.7,
          127.6,
          158.5
         ]
        },
        {
         "mode": "lines+markers",
         "name": "서대문구",
         "type": "scatter",
         "x": [
          2018,
          2019,
          2020,
          2021
         ],
         "y": [
          146,
          173,
          131.3,
          170
         ]
        },
        {
         "mode": "lines+markers",
         "name": "마포구",
         "type": "scatter",
         "x": [
          2018,
          2019,
          2020,
          2021
         ],
         "y": [
          165.8,
          199.9,
          141.1,
          201.5
         ]
        },
        {
         "mode": "lines+markers",
         "name": "양천구",
         "type": "scatter",
         "x": [
          2018,
          2019,
          2020,
          2021
         ],
         "y": [
          139.9,
          174,
          136.3,
          174.7
         ]
        },
        {
         "mode": "lines+markers",
         "name": "강서구",
         "type": "scatter",
         "x": [
          2018,
          2019,
          2020,
          2021
         ],
         "y": [
          151.1,
          183.6,
          141.5,
          188.9
         ]
        },
        {
         "mode": "lines+markers",
         "name": "구로구",
         "type": "scatter",
         "x": [
          2018,
          2019,
          2020,
          2021
         ],
         "y": [
          146.2,
          172.1,
          133.4,
          177.5
         ]
        },
        {
         "mode": "lines+markers",
         "name": "금천구",
         "type": "scatter",
         "x": [
          2018,
          2019,
          2020,
          2021
         ],
         "y": [
          140.7,
          169.5,
          136.2,
          178.4
         ]
        },
        {
         "mode": "lines+markers",
         "name": "영등포구",
         "type": "scatter",
         "x": [
          2018,
          2019,
          2020,
          2021
         ],
         "y": [
          169,
          198.4,
          148,
          212.9
         ]
        },
        {
         "mode": "lines+markers",
         "name": "동작구",
         "type": "scatter",
         "x": [
          2018,
          2019,
          2020,
          2021
         ],
         "y": [
          163.8,
          187.2,
          143.1,
          187.6
         ]
        },
        {
         "mode": "lines+markers",
         "name": "관악구",
         "type": "scatter",
         "x": [
          2018,
          2019,
          2020,
          2021
         ],
         "y": [
          158.4,
          190.1,
          144.4,
          186.7
         ]
        },
        {
         "mode": "lines+markers",
         "name": "서초구",
         "type": "scatter",
         "x": [
          2018,
          2019,
          2020,
          2021
         ],
         "y": [
          199.9,
          237,
          171,
          247.3
         ]
        },
        {
         "mode": "lines+markers",
         "name": "강남구",
         "type": "scatter",
         "x": [
          2018,
          2019,
          2020,
          2021
         ],
         "y": [
          227.6,
          268.7,
          189.6,
          280.6
         ]
        },
        {
         "mode": "lines+markers",
         "name": "송파구",
         "type": "scatter",
         "x": [
          2018,
          2019,
          2020,
          2021
         ],
         "y": [
          172.5,
          200.2,
          151.7,
          240.2
         ]
        },
        {
         "mode": "lines+markers",
         "name": "강동구",
         "type": "scatter",
         "x": [
          2018,
          2019,
          2020,
          2021
         ],
         "y": [
          140.2,
          166.8,
          135,
          200.3
         ]
        }
       ],
       "layout": {
        "legend": {
         "title": {
          "text": "지역구"
         }
        },
        "template": {
         "data": {
          "bar": [
           {
            "error_x": {
             "color": "#2a3f5f"
            },
            "error_y": {
             "color": "#2a3f5f"
            },
            "marker": {
             "line": {
              "color": "white",
              "width": 0.5
             },
             "pattern": {
              "fillmode": "overlay",
              "size": 10,
              "solidity": 0.2
             }
            },
            "type": "bar"
           }
          ],
          "barpolar": [
           {
            "marker": {
             "line": {
              "color": "white",
              "width": 0.5
             },
             "pattern": {
              "fillmode": "overlay",
              "size": 10,
              "solidity": 0.2
             }
            },
            "type": "barpolar"
           }
          ],
          "carpet": [
           {
            "aaxis": {
             "endlinecolor": "#2a3f5f",
             "gridcolor": "#C8D4E3",
             "linecolor": "#C8D4E3",
             "minorgridcolor": "#C8D4E3",
             "startlinecolor": "#2a3f5f"
            },
            "baxis": {
             "endlinecolor": "#2a3f5f",
             "gridcolor": "#C8D4E3",
             "linecolor": "#C8D4E3",
             "minorgridcolor": "#C8D4E3",
             "startlinecolor": "#2a3f5f"
            },
            "type": "carpet"
           }
          ],
          "choropleth": [
           {
            "colorbar": {
             "outlinewidth": 0,
             "ticks": ""
            },
            "type": "choropleth"
           }
          ],
          "contour": [
           {
            "colorbar": {
             "outlinewidth": 0,
             "ticks": ""
            },
            "colorscale": [
             [
              0,
              "#0d0887"
             ],
             [
              0.1111111111111111,
              "#46039f"
             ],
             [
              0.2222222222222222,
              "#7201a8"
             ],
             [
              0.3333333333333333,
              "#9c179e"
             ],
             [
              0.4444444444444444,
              "#bd3786"
             ],
             [
              0.5555555555555556,
              "#d8576b"
             ],
             [
              0.6666666666666666,
              "#ed7953"
             ],
             [
              0.7777777777777778,
              "#fb9f3a"
             ],
             [
              0.8888888888888888,
              "#fdca26"
             ],
             [
              1,
              "#f0f921"
             ]
            ],
            "type": "contour"
           }
          ],
          "contourcarpet": [
           {
            "colorbar": {
             "outlinewidth": 0,
             "ticks": ""
            },
            "type": "contourcarpet"
           }
          ],
          "heatmap": [
           {
            "colorbar": {
             "outlinewidth": 0,
             "ticks": ""
            },
            "colorscale": [
             [
              0,
              "#0d0887"
             ],
             [
              0.1111111111111111,
              "#46039f"
             ],
             [
              0.2222222222222222,
              "#7201a8"
             ],
             [
              0.3333333333333333,
              "#9c179e"
             ],
             [
              0.4444444444444444,
              "#bd3786"
             ],
             [
              0.5555555555555556,
              "#d8576b"
             ],
             [
              0.6666666666666666,
              "#ed7953"
             ],
             [
              0.7777777777777778,
              "#fb9f3a"
             ],
             [
              0.8888888888888888,
              "#fdca26"
             ],
             [
              1,
              "#f0f921"
             ]
            ],
            "type": "heatmap"
           }
          ],
          "heatmapgl": [
           {
            "colorbar": {
             "outlinewidth": 0,
             "ticks": ""
            },
            "colorscale": [
             [
              0,
              "#0d0887"
             ],
             [
              0.1111111111111111,
              "#46039f"
             ],
             [
              0.2222222222222222,
              "#7201a8"
             ],
             [
              0.3333333333333333,
              "#9c179e"
             ],
             [
              0.4444444444444444,
              "#bd3786"
             ],
             [
              0.5555555555555556,
              "#d8576b"
             ],
             [
              0.6666666666666666,
              "#ed7953"
             ],
             [
              0.7777777777777778,
              "#fb9f3a"
             ],
             [
              0.8888888888888888,
              "#fdca26"
             ],
             [
              1,
              "#f0f921"
             ]
            ],
            "type": "heatmapgl"
           }
          ],
          "histogram": [
           {
            "marker": {
             "pattern": {
              "fillmode": "overlay",
              "size": 10,
              "solidity": 0.2
             }
            },
            "type": "histogram"
           }
          ],
          "histogram2d": [
           {
            "colorbar": {
             "outlinewidth": 0,
             "ticks": ""
            },
            "colorscale": [
             [
              0,
              "#0d0887"
             ],
             [
              0.1111111111111111,
              "#46039f"
             ],
             [
              0.2222222222222222,
              "#7201a8"
             ],
             [
              0.3333333333333333,
              "#9c179e"
             ],
             [
              0.4444444444444444,
              "#bd3786"
             ],
             [
              0.5555555555555556,
              "#d8576b"
             ],
             [
              0.6666666666666666,
              "#ed7953"
             ],
             [
              0.7777777777777778,
              "#fb9f3a"
             ],
             [
              0.8888888888888888,
              "#fdca26"
             ],
             [
              1,
              "#f0f921"
             ]
            ],
            "type": "histogram2d"
           }
          ],
          "histogram2dcontour": [
           {
            "colorbar": {
             "outlinewidth": 0,
             "ticks": ""
            },
            "colorscale": [
             [
              0,
              "#0d0887"
             ],
             [
              0.1111111111111111,
              "#46039f"
             ],
             [
              0.2222222222222222,
              "#7201a8"
             ],
             [
              0.3333333333333333,
              "#9c179e"
             ],
             [
              0.4444444444444444,
              "#bd3786"
             ],
             [
              0.5555555555555556,
              "#d8576b"
             ],
             [
              0.6666666666666666,
              "#ed7953"
             ],
             [
              0.7777777777777778,
              "#fb9f3a"
             ],
             [
              0.8888888888888888,
              "#fdca26"
             ],
             [
              1,
              "#f0f921"
             ]
            ],
            "type": "histogram2dcontour"
           }
          ],
          "mesh3d": [
           {
            "colorbar": {
             "outlinewidth": 0,
             "ticks": ""
            },
            "type": "mesh3d"
           }
          ],
          "parcoords": [
           {
            "line": {
             "colorbar": {
              "outlinewidth": 0,
              "ticks": ""
             }
            },
            "type": "parcoords"
           }
          ],
          "pie": [
           {
            "automargin": true,
            "type": "pie"
           }
          ],
          "scatter": [
           {
            "fillpattern": {
             "fillmode": "overlay",
             "size": 10,
             "solidity": 0.2
            },
            "type": "scatter"
           }
          ],
          "scatter3d": [
           {
            "line": {
             "colorbar": {
              "outlinewidth": 0,
              "ticks": ""
             }
            },
            "marker": {
             "colorbar": {
              "outlinewidth": 0,
              "ticks": ""
             }
            },
            "type": "scatter3d"
           }
          ],
          "scattercarpet": [
           {
            "marker": {
             "colorbar": {
              "outlinewidth": 0,
              "ticks": ""
             }
            },
            "type": "scattercarpet"
           }
          ],
          "scattergeo": [
           {
            "marker": {
             "colorbar": {
              "outlinewidth": 0,
              "ticks": ""
             }
            },
            "type": "scattergeo"
           }
          ],
          "scattergl": [
           {
            "marker": {
             "colorbar": {
              "outlinewidth": 0,
              "ticks": ""
             }
            },
            "type": "scattergl"
           }
          ],
          "scattermapbox": [
           {
            "marker": {
             "colorbar": {
              "outlinewidth": 0,
              "ticks": ""
             }
            },
            "type": "scattermapbox"
           }
          ],
          "scatterpolar": [
           {
            "marker": {
             "colorbar": {
              "outlinewidth": 0,
              "ticks": ""
             }
            },
            "type": "scatterpolar"
           }
          ],
          "scatterpolargl": [
           {
            "marker": {
             "colorbar": {
              "outlinewidth": 0,
              "ticks": ""
             }
            },
            "type": "scatterpolargl"
           }
          ],
          "scatterternary": [
           {
            "marker": {
             "colorbar": {
              "outlinewidth": 0,
              "ticks": ""
             }
            },
            "type": "scatterternary"
           }
          ],
          "surface": [
           {
            "colorbar": {
             "outlinewidth": 0,
             "ticks": ""
            },
            "colorscale": [
             [
              0,
              "#0d0887"
             ],
             [
              0.1111111111111111,
              "#46039f"
             ],
             [
              0.2222222222222222,
              "#7201a8"
             ],
             [
              0.3333333333333333,
              "#9c179e"
             ],
             [
              0.4444444444444444,
              "#bd3786"
             ],
             [
              0.5555555555555556,
              "#d8576b"
             ],
             [
              0.6666666666666666,
              "#ed7953"
             ],
             [
              0.7777777777777778,
              "#fb9f3a"
             ],
             [
              0.8888888888888888,
              "#fdca26"
             ],
             [
              1,
              "#f0f921"
             ]
            ],
            "type": "surface"
           }
          ],
          "table": [
           {
            "cells": {
             "fill": {
              "color": "#EBF0F8"
             },
             "line": {
              "color": "white"
             }
            },
            "header": {
             "fill": {
              "color": "#C8D4E3"
             },
             "line": {
              "color": "white"
             }
            },
            "type": "table"
           }
          ]
         },
         "layout": {
          "annotationdefaults": {
           "arrowcolor": "#2a3f5f",
           "arrowhead": 0,
           "arrowwidth": 1
          },
          "autotypenumbers": "strict",
          "coloraxis": {
           "colorbar": {
            "outlinewidth": 0,
            "ticks": ""
           }
          },
          "colorscale": {
           "diverging": [
            [
             0,
             "#8e0152"
            ],
            [
             0.1,
             "#c51b7d"
            ],
            [
             0.2,
             "#de77ae"
            ],
            [
             0.3,
             "#f1b6da"
            ],
            [
             0.4,
             "#fde0ef"
            ],
            [
             0.5,
             "#f7f7f7"
            ],
            [
             0.6,
             "#e6f5d0"
            ],
            [
             0.7,
             "#b8e186"
            ],
            [
             0.8,
             "#7fbc41"
            ],
            [
             0.9,
             "#4d9221"
            ],
            [
             1,
             "#276419"
            ]
           ],
           "sequential": [
            [
             0,
             "#0d0887"
            ],
            [
             0.1111111111111111,
             "#46039f"
            ],
            [
             0.2222222222222222,
             "#7201a8"
            ],
            [
             0.3333333333333333,
             "#9c179e"
            ],
            [
             0.4444444444444444,
             "#bd3786"
            ],
            [
             0.5555555555555556,
             "#d8576b"
            ],
            [
             0.6666666666666666,
             "#ed7953"
            ],
            [
             0.7777777777777778,
             "#fb9f3a"
            ],
            [
             0.8888888888888888,
             "#fdca26"
            ],
            [
             1,
             "#f0f921"
            ]
           ],
           "sequentialminus": [
            [
             0,
             "#0d0887"
            ],
            [
             0.1111111111111111,
             "#46039f"
            ],
            [
             0.2222222222222222,
             "#7201a8"
            ],
            [
             0.3333333333333333,
             "#9c179e"
            ],
            [
             0.4444444444444444,
             "#bd3786"
            ],
            [
             0.5555555555555556,
             "#d8576b"
            ],
            [
             0.6666666666666666,
             "#ed7953"
            ],
            [
             0.7777777777777778,
             "#fb9f3a"
            ],
            [
             0.8888888888888888,
             "#fdca26"
            ],
            [
             1,
             "#f0f921"
            ]
           ]
          },
          "colorway": [
           "#636efa",
           "#EF553B",
           "#00cc96",
           "#ab63fa",
           "#FFA15A",
           "#19d3f3",
           "#FF6692",
           "#B6E880",
           "#FF97FF",
           "#FECB52"
          ],
          "font": {
           "color": "#2a3f5f"
          },
          "geo": {
           "bgcolor": "white",
           "lakecolor": "white",
           "landcolor": "white",
           "showlakes": true,
           "showland": true,
           "subunitcolor": "#C8D4E3"
          },
          "hoverlabel": {
           "align": "left"
          },
          "hovermode": "closest",
          "mapbox": {
           "style": "light"
          },
          "paper_bgcolor": "white",
          "plot_bgcolor": "white",
          "polar": {
           "angularaxis": {
            "gridcolor": "#EBF0F8",
            "linecolor": "#EBF0F8",
            "ticks": ""
           },
           "bgcolor": "white",
           "radialaxis": {
            "gridcolor": "#EBF0F8",
            "linecolor": "#EBF0F8",
            "ticks": ""
           }
          },
          "scene": {
           "xaxis": {
            "backgroundcolor": "white",
            "gridcolor": "#DFE8F3",
            "gridwidth": 2,
            "linecolor": "#EBF0F8",
            "showbackground": true,
            "ticks": "",
            "zerolinecolor": "#EBF0F8"
           },
           "yaxis": {
            "backgroundcolor": "white",
            "gridcolor": "#DFE8F3",
            "gridwidth": 2,
            "linecolor": "#EBF0F8",
            "showbackground": true,
            "ticks": "",
            "zerolinecolor": "#EBF0F8"
           },
           "zaxis": {
            "backgroundcolor": "white",
            "gridcolor": "#DFE8F3",
            "gridwidth": 2,
            "linecolor": "#EBF0F8",
            "showbackground": true,
            "ticks": "",
            "zerolinecolor": "#EBF0F8"
           }
          },
          "shapedefaults": {
           "line": {
            "color": "#2a3f5f"
           }
          },
          "ternary": {
           "aaxis": {
            "gridcolor": "#DFE8F3",
            "linecolor": "#A2B1C6",
            "ticks": ""
           },
           "baxis": {
            "gridcolor": "#DFE8F3",
            "linecolor": "#A2B1C6",
            "ticks": ""
           },
           "bgcolor": "white",
           "caxis": {
            "gridcolor": "#DFE8F3",
            "linecolor": "#A2B1C6",
            "ticks": ""
           }
          },
          "title": {
           "x": 0.05
          },
          "xaxis": {
           "automargin": true,
           "gridcolor": "#EBF0F8",
           "linecolor": "#EBF0F8",
           "ticks": "",
           "title": {
            "standoff": 15
           },
           "zerolinecolor": "#EBF0F8",
           "zerolinewidth": 2
          },
          "yaxis": {
           "automargin": true,
           "gridcolor": "#EBF0F8",
           "linecolor": "#EBF0F8",
           "ticks": "",
           "title": {
            "standoff": 15
           },
           "zerolinecolor": "#EBF0F8",
           "zerolinewidth": 2
          }
         }
        },
        "title": {
         "text": "외식업 추이"
        },
        "xaxis": {
         "tickmode": "linear",
         "title": {
          "text": "년도"
         }
        },
        "yaxis": {
         "title": {
          "text": "매출액"
         }
        }
       }
      }
     },
     "metadata": {},
     "output_type": "display_data"
    },
    {
     "data": {
      "application/vnd.plotly.v1+json": {
       "config": {
        "plotlyServerURL": "https://plot.ly"
       },
       "data": [
        {
         "mode": "lines+markers",
         "name": "종로구",
         "type": "scatter",
         "x": [
          2018,
          2019,
          2020,
          2021
         ],
         "y": [
          109.7,
          105,
          66.2,
          127.3
         ]
        },
        {
         "mode": "lines+markers",
         "name": "중구",
         "type": "scatter",
         "x": [
          2018,
          2019,
          2020,
          2021
         ],
         "y": [
          118.4,
          116.4,
          76.8,
          245.7
         ]
        },
        {
         "mode": "lines+markers",
         "name": "용산구",
         "type": "scatter",
         "x": [
          2018,
          2019,
          2020,
          2021
         ],
         "y": [
          122.4,
          78.5,
          56.7,
          212.4
         ]
        },
        {
         "mode": "lines+markers",
         "name": "성동구",
         "type": "scatter",
         "x": [
          2018,
          2019,
          2020,
          2021
         ],
         "y": [
          105.6,
          84.3,
          61.6,
          158.3
         ]
        },
        {
         "mode": "lines+markers",
         "name": "광진구",
         "type": "scatter",
         "x": [
          2018,
          2019,
          2020,
          2021
         ],
         "y": [
          94.5,
          78.7,
          56.9,
          131
         ]
        },
        {
         "mode": "lines+markers",
         "name": "동대문구",
         "type": "scatter",
         "x": [
          2018,
          2019,
          2020,
          2021
         ],
         "y": [
          96.5,
          75.8,
          56.4,
          114
         ]
        },
        {
         "mode": "lines+markers",
         "name": "중랑구",
         "type": "scatter",
         "x": [
          2018,
          2019,
          2020,
          2021
         ],
         "y": [
          82.5,
          70.3,
          53.9,
          117
         ]
        },
        {
         "mode": "lines+markers",
         "name": "성북구",
         "type": "scatter",
         "x": [
          2018,
          2019,
          2020,
          2021
         ],
         "y": [
          85.2,
          71.6,
          55.1,
          100.2
         ]
        },
        {
         "mode": "lines+markers",
         "name": "강북구",
         "type": "scatter",
         "x": [
          2018,
          2019,
          2020,
          2021
         ],
         "y": [
          82.2,
          74.7,
          56.8,
          97.3
         ]
        },
        {
         "mode": "lines+markers",
         "name": "도봉구",
         "type": "scatter",
         "x": [
          2018,
          2019,
          2020,
          2021
         ],
         "y": [
          80.5,
          67.7,
          50.4,
          102.7
         ]
        },
        {
         "mode": "lines+markers",
         "name": "노원구",
         "type": "scatter",
         "x": [
          2018,
          2019,
          2020,
          2021
         ],
         "y": [
          101.2,
          78.1,
          56.9,
          117.7
         ]
        },
        {
         "mode": "lines+markers",
         "name": "은평구",
         "type": "scatter",
         "x": [
          2018,
          2019,
          2020,
          2021
         ],
         "y": [
          80.6,
          67.8,
          52,
          113.2
         ]
        },
        {
         "mode": "lines+markers",
         "name": "서대문구",
         "type": "scatter",
         "x": [
          2018,
          2019,
          2020,
          2021
         ],
         "y": [
          90.2,
          76.2,
          54.9,
          127.2
         ]
        },
        {
         "mode": "lines+markers",
         "name": "마포구",
         "type": "scatter",
         "x": [
          2018,
          2019,
          2020,
          2021
         ],
         "y": [
          107.9,
          89.6,
          58.8,
          153.9
         ]
        },
        {
         "mode": "lines+markers",
         "name": "양천구",
         "type": "scatter",
         "x": [
          2018,
          2019,
          2020,
          2021
         ],
         "y": [
          91.8,
          73.8,
          54.8,
          118.7
         ]
        },
        {
         "mode": "lines+markers",
         "name": "강서구",
         "type": "scatter",
         "x": [
          2018,
          2019,
          2020,
          2021
         ],
         "y": [
          94.7,
          71.4,
          52.2,
          142.5
         ]
        },
        {
         "mode": "lines+markers",
         "name": "구로구",
         "type": "scatter",
         "x": [
          2018,
          2019,
          2020,
          2021
         ],
         "y": [
          97.9,
          84.5,
          59.7,
          142
         ]
        },
        {
         "mode": "lines+markers",
         "name": "금천구",
         "type": "scatter",
         "x": [
          2018,
          2019,
          2020,
          2021
         ],
         "y": [
          100.6,
          95.3,
          64.4,
          195.3
         ]
        },
        {
         "mode": "lines+markers",
         "name": "영등포구",
         "type": "scatter",
         "x": [
          2018,
          2019,
          2020,
          2021
         ],
         "y": [
          113.4,
          90.6,
          60.7,
          151
         ]
        },
        {
         "mode": "lines+markers",
         "name": "동작구",
         "type": "scatter",
         "x": [
          2018,
          2019,
          2020,
          2021
         ],
         "y": [
          92.7,
          68.8,
          54.1,
          121
         ]
        },
        {
         "mode": "lines+markers",
         "name": "관악구",
         "type": "scatter",
         "x": [
          2018,
          2019,
          2020,
          2021
         ],
         "y": [
          93.1,
          76.2,
          59.9,
          108.6
         ]
        },
        {
         "mode": "lines+markers",
         "name": "서초구",
         "type": "scatter",
         "x": [
          2018,
          2019,
          2020,
          2021
         ],
         "y": [
          149.3,
          111.6,
          77.6,
          234.5
         ]
        },
        {
         "mode": "lines+markers",
         "name": "강남구",
         "type": "scatter",
         "x": [
          2018,
          2019,
          2020,
          2021
         ],
         "y": [
          156,
          123.2,
          80.2,
          286.6
         ]
        },
        {
         "mode": "lines+markers",
         "name": "송파구",
         "type": "scatter",
         "x": [
          2018,
          2019,
          2020,
          2021
         ],
         "y": [
          115.7,
          77.4,
          55,
          162.4
         ]
        },
        {
         "mode": "lines+markers",
         "name": "강동구",
         "type": "scatter",
         "x": [
          2018,
          2019,
          2020,
          2021
         ],
         "y": [
          93.7,
          73.9,
          57.3,
          141.8
         ]
        }
       ],
       "layout": {
        "legend": {
         "title": {
          "text": "지역구"
         }
        },
        "template": {
         "data": {
          "bar": [
           {
            "error_x": {
             "color": "#2a3f5f"
            },
            "error_y": {
             "color": "#2a3f5f"
            },
            "marker": {
             "line": {
              "color": "white",
              "width": 0.5
             },
             "pattern": {
              "fillmode": "overlay",
              "size": 10,
              "solidity": 0.2
             }
            },
            "type": "bar"
           }
          ],
          "barpolar": [
           {
            "marker": {
             "line": {
              "color": "white",
              "width": 0.5
             },
             "pattern": {
              "fillmode": "overlay",
              "size": 10,
              "solidity": 0.2
             }
            },
            "type": "barpolar"
           }
          ],
          "carpet": [
           {
            "aaxis": {
             "endlinecolor": "#2a3f5f",
             "gridcolor": "#C8D4E3",
             "linecolor": "#C8D4E3",
             "minorgridcolor": "#C8D4E3",
             "startlinecolor": "#2a3f5f"
            },
            "baxis": {
             "endlinecolor": "#2a3f5f",
             "gridcolor": "#C8D4E3",
             "linecolor": "#C8D4E3",
             "minorgridcolor": "#C8D4E3",
             "startlinecolor": "#2a3f5f"
            },
            "type": "carpet"
           }
          ],
          "choropleth": [
           {
            "colorbar": {
             "outlinewidth": 0,
             "ticks": ""
            },
            "type": "choropleth"
           }
          ],
          "contour": [
           {
            "colorbar": {
             "outlinewidth": 0,
             "ticks": ""
            },
            "colorscale": [
             [
              0,
              "#0d0887"
             ],
             [
              0.1111111111111111,
              "#46039f"
             ],
             [
              0.2222222222222222,
              "#7201a8"
             ],
             [
              0.3333333333333333,
              "#9c179e"
             ],
             [
              0.4444444444444444,
              "#bd3786"
             ],
             [
              0.5555555555555556,
              "#d8576b"
             ],
             [
              0.6666666666666666,
              "#ed7953"
             ],
             [
              0.7777777777777778,
              "#fb9f3a"
             ],
             [
              0.8888888888888888,
              "#fdca26"
             ],
             [
              1,
              "#f0f921"
             ]
            ],
            "type": "contour"
           }
          ],
          "contourcarpet": [
           {
            "colorbar": {
             "outlinewidth": 0,
             "ticks": ""
            },
            "type": "contourcarpet"
           }
          ],
          "heatmap": [
           {
            "colorbar": {
             "outlinewidth": 0,
             "ticks": ""
            },
            "colorscale": [
             [
              0,
              "#0d0887"
             ],
             [
              0.1111111111111111,
              "#46039f"
             ],
             [
              0.2222222222222222,
              "#7201a8"
             ],
             [
              0.3333333333333333,
              "#9c179e"
             ],
             [
              0.4444444444444444,
              "#bd3786"
             ],
             [
              0.5555555555555556,
              "#d8576b"
             ],
             [
              0.6666666666666666,
              "#ed7953"
             ],
             [
              0.7777777777777778,
              "#fb9f3a"
             ],
             [
              0.8888888888888888,
              "#fdca26"
             ],
             [
              1,
              "#f0f921"
             ]
            ],
            "type": "heatmap"
           }
          ],
          "heatmapgl": [
           {
            "colorbar": {
             "outlinewidth": 0,
             "ticks": ""
            },
            "colorscale": [
             [
              0,
              "#0d0887"
             ],
             [
              0.1111111111111111,
              "#46039f"
             ],
             [
              0.2222222222222222,
              "#7201a8"
             ],
             [
              0.3333333333333333,
              "#9c179e"
             ],
             [
              0.4444444444444444,
              "#bd3786"
             ],
             [
              0.5555555555555556,
              "#d8576b"
             ],
             [
              0.6666666666666666,
              "#ed7953"
             ],
             [
              0.7777777777777778,
              "#fb9f3a"
             ],
             [
              0.8888888888888888,
              "#fdca26"
             ],
             [
              1,
              "#f0f921"
             ]
            ],
            "type": "heatmapgl"
           }
          ],
          "histogram": [
           {
            "marker": {
             "pattern": {
              "fillmode": "overlay",
              "size": 10,
              "solidity": 0.2
             }
            },
            "type": "histogram"
           }
          ],
          "histogram2d": [
           {
            "colorbar": {
             "outlinewidth": 0,
             "ticks": ""
            },
            "colorscale": [
             [
              0,
              "#0d0887"
             ],
             [
              0.1111111111111111,
              "#46039f"
             ],
             [
              0.2222222222222222,
              "#7201a8"
             ],
             [
              0.3333333333333333,
              "#9c179e"
             ],
             [
              0.4444444444444444,
              "#bd3786"
             ],
             [
              0.5555555555555556,
              "#d8576b"
             ],
             [
              0.6666666666666666,
              "#ed7953"
             ],
             [
              0.7777777777777778,
              "#fb9f3a"
             ],
             [
              0.8888888888888888,
              "#fdca26"
             ],
             [
              1,
              "#f0f921"
             ]
            ],
            "type": "histogram2d"
           }
          ],
          "histogram2dcontour": [
           {
            "colorbar": {
             "outlinewidth": 0,
             "ticks": ""
            },
            "colorscale": [
             [
              0,
              "#0d0887"
             ],
             [
              0.1111111111111111,
              "#46039f"
             ],
             [
              0.2222222222222222,
              "#7201a8"
             ],
             [
              0.3333333333333333,
              "#9c179e"
             ],
             [
              0.4444444444444444,
              "#bd3786"
             ],
             [
              0.5555555555555556,
              "#d8576b"
             ],
             [
              0.6666666666666666,
              "#ed7953"
             ],
             [
              0.7777777777777778,
              "#fb9f3a"
             ],
             [
              0.8888888888888888,
              "#fdca26"
             ],
             [
              1,
              "#f0f921"
             ]
            ],
            "type": "histogram2dcontour"
           }
          ],
          "mesh3d": [
           {
            "colorbar": {
             "outlinewidth": 0,
             "ticks": ""
            },
            "type": "mesh3d"
           }
          ],
          "parcoords": [
           {
            "line": {
             "colorbar": {
              "outlinewidth": 0,
              "ticks": ""
             }
            },
            "type": "parcoords"
           }
          ],
          "pie": [
           {
            "automargin": true,
            "type": "pie"
           }
          ],
          "scatter": [
           {
            "fillpattern": {
             "fillmode": "overlay",
             "size": 10,
             "solidity": 0.2
            },
            "type": "scatter"
           }
          ],
          "scatter3d": [
           {
            "line": {
             "colorbar": {
              "outlinewidth": 0,
              "ticks": ""
             }
            },
            "marker": {
             "colorbar": {
              "outlinewidth": 0,
              "ticks": ""
             }
            },
            "type": "scatter3d"
           }
          ],
          "scattercarpet": [
           {
            "marker": {
             "colorbar": {
              "outlinewidth": 0,
              "ticks": ""
             }
            },
            "type": "scattercarpet"
           }
          ],
          "scattergeo": [
           {
            "marker": {
             "colorbar": {
              "outlinewidth": 0,
              "ticks": ""
             }
            },
            "type": "scattergeo"
           }
          ],
          "scattergl": [
           {
            "marker": {
             "colorbar": {
              "outlinewidth": 0,
              "ticks": ""
             }
            },
            "type": "scattergl"
           }
          ],
          "scattermapbox": [
           {
            "marker": {
             "colorbar": {
              "outlinewidth": 0,
              "ticks": ""
             }
            },
            "type": "scattermapbox"
           }
          ],
          "scatterpolar": [
           {
            "marker": {
             "colorbar": {
              "outlinewidth": 0,
              "ticks": ""
             }
            },
            "type": "scatterpolar"
           }
          ],
          "scatterpolargl": [
           {
            "marker": {
             "colorbar": {
              "outlinewidth": 0,
              "ticks": ""
             }
            },
            "type": "scatterpolargl"
           }
          ],
          "scatterternary": [
           {
            "marker": {
             "colorbar": {
              "outlinewidth": 0,
              "ticks": ""
             }
            },
            "type": "scatterternary"
           }
          ],
          "surface": [
           {
            "colorbar": {
             "outlinewidth": 0,
             "ticks": ""
            },
            "colorscale": [
             [
              0,
              "#0d0887"
             ],
             [
              0.1111111111111111,
              "#46039f"
             ],
             [
              0.2222222222222222,
              "#7201a8"
             ],
             [
              0.3333333333333333,
              "#9c179e"
             ],
             [
              0.4444444444444444,
              "#bd3786"
             ],
             [
              0.5555555555555556,
              "#d8576b"
             ],
             [
              0.6666666666666666,
              "#ed7953"
             ],
             [
              0.7777777777777778,
              "#fb9f3a"
             ],
             [
              0.8888888888888888,
              "#fdca26"
             ],
             [
              1,
              "#f0f921"
             ]
            ],
            "type": "surface"
           }
          ],
          "table": [
           {
            "cells": {
             "fill": {
              "color": "#EBF0F8"
             },
             "line": {
              "color": "white"
             }
            },
            "header": {
             "fill": {
              "color": "#C8D4E3"
             },
             "line": {
              "color": "white"
             }
            },
            "type": "table"
           }
          ]
         },
         "layout": {
          "annotationdefaults": {
           "arrowcolor": "#2a3f5f",
           "arrowhead": 0,
           "arrowwidth": 1
          },
          "autotypenumbers": "strict",
          "coloraxis": {
           "colorbar": {
            "outlinewidth": 0,
            "ticks": ""
           }
          },
          "colorscale": {
           "diverging": [
            [
             0,
             "#8e0152"
            ],
            [
             0.1,
             "#c51b7d"
            ],
            [
             0.2,
             "#de77ae"
            ],
            [
             0.3,
             "#f1b6da"
            ],
            [
             0.4,
             "#fde0ef"
            ],
            [
             0.5,
             "#f7f7f7"
            ],
            [
             0.6,
             "#e6f5d0"
            ],
            [
             0.7,
             "#b8e186"
            ],
            [
             0.8,
             "#7fbc41"
            ],
            [
             0.9,
             "#4d9221"
            ],
            [
             1,
             "#276419"
            ]
           ],
           "sequential": [
            [
             0,
             "#0d0887"
            ],
            [
             0.1111111111111111,
             "#46039f"
            ],
            [
             0.2222222222222222,
             "#7201a8"
            ],
            [
             0.3333333333333333,
             "#9c179e"
            ],
            [
             0.4444444444444444,
             "#bd3786"
            ],
            [
             0.5555555555555556,
             "#d8576b"
            ],
            [
             0.6666666666666666,
             "#ed7953"
            ],
            [
             0.7777777777777778,
             "#fb9f3a"
            ],
            [
             0.8888888888888888,
             "#fdca26"
            ],
            [
             1,
             "#f0f921"
            ]
           ],
           "sequentialminus": [
            [
             0,
             "#0d0887"
            ],
            [
             0.1111111111111111,
             "#46039f"
            ],
            [
             0.2222222222222222,
             "#7201a8"
            ],
            [
             0.3333333333333333,
             "#9c179e"
            ],
            [
             0.4444444444444444,
             "#bd3786"
            ],
            [
             0.5555555555555556,
             "#d8576b"
            ],
            [
             0.6666666666666666,
             "#ed7953"
            ],
            [
             0.7777777777777778,
             "#fb9f3a"
            ],
            [
             0.8888888888888888,
             "#fdca26"
            ],
            [
             1,
             "#f0f921"
            ]
           ]
          },
          "colorway": [
           "#636efa",
           "#EF553B",
           "#00cc96",
           "#ab63fa",
           "#FFA15A",
           "#19d3f3",
           "#FF6692",
           "#B6E880",
           "#FF97FF",
           "#FECB52"
          ],
          "font": {
           "color": "#2a3f5f"
          },
          "geo": {
           "bgcolor": "white",
           "lakecolor": "white",
           "landcolor": "white",
           "showlakes": true,
           "showland": true,
           "subunitcolor": "#C8D4E3"
          },
          "hoverlabel": {
           "align": "left"
          },
          "hovermode": "closest",
          "mapbox": {
           "style": "light"
          },
          "paper_bgcolor": "white",
          "plot_bgcolor": "white",
          "polar": {
           "angularaxis": {
            "gridcolor": "#EBF0F8",
            "linecolor": "#EBF0F8",
            "ticks": ""
           },
           "bgcolor": "white",
           "radialaxis": {
            "gridcolor": "#EBF0F8",
            "linecolor": "#EBF0F8",
            "ticks": ""
           }
          },
          "scene": {
           "xaxis": {
            "backgroundcolor": "white",
            "gridcolor": "#DFE8F3",
            "gridwidth": 2,
            "linecolor": "#EBF0F8",
            "showbackground": true,
            "ticks": "",
            "zerolinecolor": "#EBF0F8"
           },
           "yaxis": {
            "backgroundcolor": "white",
            "gridcolor": "#DFE8F3",
            "gridwidth": 2,
            "linecolor": "#EBF0F8",
            "showbackground": true,
            "ticks": "",
            "zerolinecolor": "#EBF0F8"
           },
           "zaxis": {
            "backgroundcolor": "white",
            "gridcolor": "#DFE8F3",
            "gridwidth": 2,
            "linecolor": "#EBF0F8",
            "showbackground": true,
            "ticks": "",
            "zerolinecolor": "#EBF0F8"
           }
          },
          "shapedefaults": {
           "line": {
            "color": "#2a3f5f"
           }
          },
          "ternary": {
           "aaxis": {
            "gridcolor": "#DFE8F3",
            "linecolor": "#A2B1C6",
            "ticks": ""
           },
           "baxis": {
            "gridcolor": "#DFE8F3",
            "linecolor": "#A2B1C6",
            "ticks": ""
           },
           "bgcolor": "white",
           "caxis": {
            "gridcolor": "#DFE8F3",
            "linecolor": "#A2B1C6",
            "ticks": ""
           }
          },
          "title": {
           "x": 0.05
          },
          "xaxis": {
           "automargin": true,
           "gridcolor": "#EBF0F8",
           "linecolor": "#EBF0F8",
           "ticks": "",
           "title": {
            "standoff": 15
           },
           "zerolinecolor": "#EBF0F8",
           "zerolinewidth": 2
          },
          "yaxis": {
           "automargin": true,
           "gridcolor": "#EBF0F8",
           "linecolor": "#EBF0F8",
           "ticks": "",
           "title": {
            "standoff": 15
           },
           "zerolinecolor": "#EBF0F8",
           "zerolinewidth": 2
          }
         }
        },
        "title": {
         "text": "서비스업 추이"
        },
        "xaxis": {
         "tickmode": "linear",
         "title": {
          "text": "년도"
         }
        },
        "yaxis": {
         "title": {
          "text": "매출액"
         }
        }
       }
      }
     },
     "metadata": {},
     "output_type": "display_data"
    },
    {
     "data": {
      "application/vnd.plotly.v1+json": {
       "config": {
        "plotlyServerURL": "https://plot.ly"
       },
       "data": [
        {
         "mode": "lines+markers",
         "name": "종로구",
         "type": "scatter",
         "x": [
          2018,
          2019,
          2020,
          2021
         ],
         "y": [
          212.3,
          252.5,
          181.4,
          441
         ]
        },
        {
         "mode": "lines+markers",
         "name": "중구",
         "type": "scatter",
         "x": [
          2018,
          2019,
          2020,
          2021
         ],
         "y": [
          233.5,
          283.2,
          196.1,
          404.4
         ]
        },
        {
         "mode": "lines+markers",
         "name": "용산구",
         "type": "scatter",
         "x": [
          2018,
          2019,
          2020,
          2021
         ],
         "y": [
          270.2,
          445.6,
          240.5,
          691.6
         ]
        },
        {
         "mode": "lines+markers",
         "name": "성동구",
         "type": "scatter",
         "x": [
          2018,
          2019,
          2020,
          2021
         ],
         "y": [
          364.6,
          481.1,
          282.3,
          735.7
         ]
        },
        {
         "mode": "lines+markers",
         "name": "광진구",
         "type": "scatter",
         "x": [
          2018,
          2019,
          2020,
          2021
         ],
         "y": [
          223,
          295.2,
          184.4,
          341
         ]
        },
        {
         "mode": "lines+markers",
         "name": "동대문구",
         "type": "scatter",
         "x": [
          2018,
          2019,
          2020,
          2021
         ],
         "y": [
          286.6,
          329.3,
          252.2,
          401.6
         ]
        },
        {
         "mode": "lines+markers",
         "name": "중랑구",
         "type": "scatter",
         "x": [
          2018,
          2019,
          2020,
          2021
         ],
         "y": [
          202.1,
          242.4,
          180.5,
          265.1
         ]
        },
        {
         "mode": "lines+markers",
         "name": "성북구",
         "type": "scatter",
         "x": [
          2018,
          2019,
          2020,
          2021
         ],
         "y": [
          203.3,
          231.5,
          169.3,
          246.7
         ]
        },
        {
         "mode": "lines+markers",
         "name": "강북구",
         "type": "scatter",
         "x": [
          2018,
          2019,
          2020,
          2021
         ],
         "y": [
          215.5,
          221.1,
          173.2,
          264.8
         ]
        },
        {
         "mode": "lines+markers",
         "name": "도봉구",
         "type": "scatter",
         "x": [
          2018,
          2019,
          2020,
          2021
         ],
         "y": [
          204.1,
          230.2,
          182.7,
          241.2
         ]
        },
        {
         "mode": "lines+markers",
         "name": "노원구",
         "type": "scatter",
         "x": [
          2018,
          2019,
          2020,
          2021
         ],
         "y": [
          193,
          227,
          166.3,
          226.4
         ]
        },
        {
         "mode": "lines+markers",
         "name": "은평구",
         "type": "scatter",
         "x": [
          2018,
          2019,
          2020,
          2021
         ],
         "y": [
          187.4,
          217.7,
          161.6,
          228.4
         ]
        },
        {
         "mode": "lines+markers",
         "name": "서대문구",
         "type": "scatter",
         "x": [
          2018,
          2019,
          2020,
          2021
         ],
         "y": [
          192.4,
          237,
          162.3,
          267
         ]
        },
        {
         "mode": "lines+markers",
         "name": "마포구",
         "type": "scatter",
         "x": [
          2018,
          2019,
          2020,
          2021
         ],
         "y": [
          223.5,
          292.3,
          179.6,
          342.6
         ]
        },
        {
         "mode": "lines+markers",
         "name": "양천구",
         "type": "scatter",
         "x": [
          2018,
          2019,
          2020,
          2021
         ],
         "y": [
          213.3,
          257.2,
          182.1,
          281.7
         ]
        },
        {
         "mode": "lines+markers",
         "name": "강서구",
         "type": "scatter",
         "x": [
          2018,
          2019,
          2020,
          2021
         ],
         "y": [
          269,
          363.5,
          214.2,
          482.8
         ]
        },
        {
         "mode": "lines+markers",
         "name": "구로구",
         "type": "scatter",
         "x": [
          2018,
          2019,
          2020,
          2021
         ],
         "y": [
          298.9,
          400,
          253.2,
          462.5
         ]
        },
        {
         "mode": "lines+markers",
         "name": "금천구",
         "type": "scatter",
         "x": [
          2018,
          2019,
          2020,
          2021
         ],
         "y": [
          261.3,
          383.2,
          220.1,
          432.3
         ]
        },
        {
         "mode": "lines+markers",
         "name": "영등포구",
         "type": "scatter",
         "x": [
          2018,
          2019,
          2020,
          2021
         ],
         "y": [
          259.7,
          338.4,
          221.9,
          511.2
         ]
        },
        {
         "mode": "lines+markers",
         "name": "동작구",
         "type": "scatter",
         "x": [
          2018,
          2019,
          2020,
          2021
         ],
         "y": [
          262,
          299.6,
          220,
          359
         ]
        },
        {
         "mode": "lines+markers",
         "name": "관악구",
         "type": "scatter",
         "x": [
          2018,
          2019,
          2020,
          2021
         ],
         "y": [
          203,
          232.8,
          165.9,
          244.2
         ]
        },
        {
         "mode": "lines+markers",
         "name": "서초구",
         "type": "scatter",
         "x": [
          2018,
          2019,
          2020,
          2021
         ],
         "y": [
          247.7,
          318,
          200.9,
          409.7
         ]
        },
        {
         "mode": "lines+markers",
         "name": "강남구",
         "type": "scatter",
         "x": [
          2018,
          2019,
          2020,
          2021
         ],
         "y": [
          261.3,
          346.4,
          207.7,
          510
         ]
        },
        {
         "mode": "lines+markers",
         "name": "송파구",
         "type": "scatter",
         "x": [
          2018,
          2019,
          2020,
          2021
         ],
         "y": [
          310.4,
          536.1,
          247.5,
          658.8
         ]
        },
        {
         "mode": "lines+markers",
         "name": "강동구",
         "type": "scatter",
         "x": [
          2018,
          2019,
          2020,
          2021
         ],
         "y": [
          208,
          246.5,
          177.9,
          315.8
         ]
        }
       ],
       "layout": {
        "legend": {
         "title": {
          "text": "지역구"
         }
        },
        "template": {
         "data": {
          "bar": [
           {
            "error_x": {
             "color": "#2a3f5f"
            },
            "error_y": {
             "color": "#2a3f5f"
            },
            "marker": {
             "line": {
              "color": "white",
              "width": 0.5
             },
             "pattern": {
              "fillmode": "overlay",
              "size": 10,
              "solidity": 0.2
             }
            },
            "type": "bar"
           }
          ],
          "barpolar": [
           {
            "marker": {
             "line": {
              "color": "white",
              "width": 0.5
             },
             "pattern": {
              "fillmode": "overlay",
              "size": 10,
              "solidity": 0.2
             }
            },
            "type": "barpolar"
           }
          ],
          "carpet": [
           {
            "aaxis": {
             "endlinecolor": "#2a3f5f",
             "gridcolor": "#C8D4E3",
             "linecolor": "#C8D4E3",
             "minorgridcolor": "#C8D4E3",
             "startlinecolor": "#2a3f5f"
            },
            "baxis": {
             "endlinecolor": "#2a3f5f",
             "gridcolor": "#C8D4E3",
             "linecolor": "#C8D4E3",
             "minorgridcolor": "#C8D4E3",
             "startlinecolor": "#2a3f5f"
            },
            "type": "carpet"
           }
          ],
          "choropleth": [
           {
            "colorbar": {
             "outlinewidth": 0,
             "ticks": ""
            },
            "type": "choropleth"
           }
          ],
          "contour": [
           {
            "colorbar": {
             "outlinewidth": 0,
             "ticks": ""
            },
            "colorscale": [
             [
              0,
              "#0d0887"
             ],
             [
              0.1111111111111111,
              "#46039f"
             ],
             [
              0.2222222222222222,
              "#7201a8"
             ],
             [
              0.3333333333333333,
              "#9c179e"
             ],
             [
              0.4444444444444444,
              "#bd3786"
             ],
             [
              0.5555555555555556,
              "#d8576b"
             ],
             [
              0.6666666666666666,
              "#ed7953"
             ],
             [
              0.7777777777777778,
              "#fb9f3a"
             ],
             [
              0.8888888888888888,
              "#fdca26"
             ],
             [
              1,
              "#f0f921"
             ]
            ],
            "type": "contour"
           }
          ],
          "contourcarpet": [
           {
            "colorbar": {
             "outlinewidth": 0,
             "ticks": ""
            },
            "type": "contourcarpet"
           }
          ],
          "heatmap": [
           {
            "colorbar": {
             "outlinewidth": 0,
             "ticks": ""
            },
            "colorscale": [
             [
              0,
              "#0d0887"
             ],
             [
              0.1111111111111111,
              "#46039f"
             ],
             [
              0.2222222222222222,
              "#7201a8"
             ],
             [
              0.3333333333333333,
              "#9c179e"
             ],
             [
              0.4444444444444444,
              "#bd3786"
             ],
             [
              0.5555555555555556,
              "#d8576b"
             ],
             [
              0.6666666666666666,
              "#ed7953"
             ],
             [
              0.7777777777777778,
              "#fb9f3a"
             ],
             [
              0.8888888888888888,
              "#fdca26"
             ],
             [
              1,
              "#f0f921"
             ]
            ],
            "type": "heatmap"
           }
          ],
          "heatmapgl": [
           {
            "colorbar": {
             "outlinewidth": 0,
             "ticks": ""
            },
            "colorscale": [
             [
              0,
              "#0d0887"
             ],
             [
              0.1111111111111111,
              "#46039f"
             ],
             [
              0.2222222222222222,
              "#7201a8"
             ],
             [
              0.3333333333333333,
              "#9c179e"
             ],
             [
              0.4444444444444444,
              "#bd3786"
             ],
             [
              0.5555555555555556,
              "#d8576b"
             ],
             [
              0.6666666666666666,
              "#ed7953"
             ],
             [
              0.7777777777777778,
              "#fb9f3a"
             ],
             [
              0.8888888888888888,
              "#fdca26"
             ],
             [
              1,
              "#f0f921"
             ]
            ],
            "type": "heatmapgl"
           }
          ],
          "histogram": [
           {
            "marker": {
             "pattern": {
              "fillmode": "overlay",
              "size": 10,
              "solidity": 0.2
             }
            },
            "type": "histogram"
           }
          ],
          "histogram2d": [
           {
            "colorbar": {
             "outlinewidth": 0,
             "ticks": ""
            },
            "colorscale": [
             [
              0,
              "#0d0887"
             ],
             [
              0.1111111111111111,
              "#46039f"
             ],
             [
              0.2222222222222222,
              "#7201a8"
             ],
             [
              0.3333333333333333,
              "#9c179e"
             ],
             [
              0.4444444444444444,
              "#bd3786"
             ],
             [
              0.5555555555555556,
              "#d8576b"
             ],
             [
              0.6666666666666666,
              "#ed7953"
             ],
             [
              0.7777777777777778,
              "#fb9f3a"
             ],
             [
              0.8888888888888888,
              "#fdca26"
             ],
             [
              1,
              "#f0f921"
             ]
            ],
            "type": "histogram2d"
           }
          ],
          "histogram2dcontour": [
           {
            "colorbar": {
             "outlinewidth": 0,
             "ticks": ""
            },
            "colorscale": [
             [
              0,
              "#0d0887"
             ],
             [
              0.1111111111111111,
              "#46039f"
             ],
             [
              0.2222222222222222,
              "#7201a8"
             ],
             [
              0.3333333333333333,
              "#9c179e"
             ],
             [
              0.4444444444444444,
              "#bd3786"
             ],
             [
              0.5555555555555556,
              "#d8576b"
             ],
             [
              0.6666666666666666,
              "#ed7953"
             ],
             [
              0.7777777777777778,
              "#fb9f3a"
             ],
             [
              0.8888888888888888,
              "#fdca26"
             ],
             [
              1,
              "#f0f921"
             ]
            ],
            "type": "histogram2dcontour"
           }
          ],
          "mesh3d": [
           {
            "colorbar": {
             "outlinewidth": 0,
             "ticks": ""
            },
            "type": "mesh3d"
           }
          ],
          "parcoords": [
           {
            "line": {
             "colorbar": {
              "outlinewidth": 0,
              "ticks": ""
             }
            },
            "type": "parcoords"
           }
          ],
          "pie": [
           {
            "automargin": true,
            "type": "pie"
           }
          ],
          "scatter": [
           {
            "fillpattern": {
             "fillmode": "overlay",
             "size": 10,
             "solidity": 0.2
            },
            "type": "scatter"
           }
          ],
          "scatter3d": [
           {
            "line": {
             "colorbar": {
              "outlinewidth": 0,
              "ticks": ""
             }
            },
            "marker": {
             "colorbar": {
              "outlinewidth": 0,
              "ticks": ""
             }
            },
            "type": "scatter3d"
           }
          ],
          "scattercarpet": [
           {
            "marker": {
             "colorbar": {
              "outlinewidth": 0,
              "ticks": ""
             }
            },
            "type": "scattercarpet"
           }
          ],
          "scattergeo": [
           {
            "marker": {
             "colorbar": {
              "outlinewidth": 0,
              "ticks": ""
             }
            },
            "type": "scattergeo"
           }
          ],
          "scattergl": [
           {
            "marker": {
             "colorbar": {
              "outlinewidth": 0,
              "ticks": ""
             }
            },
            "type": "scattergl"
           }
          ],
          "scattermapbox": [
           {
            "marker": {
             "colorbar": {
              "outlinewidth": 0,
              "ticks": ""
             }
            },
            "type": "scattermapbox"
           }
          ],
          "scatterpolar": [
           {
            "marker": {
             "colorbar": {
              "outlinewidth": 0,
              "ticks": ""
             }
            },
            "type": "scatterpolar"
           }
          ],
          "scatterpolargl": [
           {
            "marker": {
             "colorbar": {
              "outlinewidth": 0,
              "ticks": ""
             }
            },
            "type": "scatterpolargl"
           }
          ],
          "scatterternary": [
           {
            "marker": {
             "colorbar": {
              "outlinewidth": 0,
              "ticks": ""
             }
            },
            "type": "scatterternary"
           }
          ],
          "surface": [
           {
            "colorbar": {
             "outlinewidth": 0,
             "ticks": ""
            },
            "colorscale": [
             [
              0,
              "#0d0887"
             ],
             [
              0.1111111111111111,
              "#46039f"
             ],
             [
              0.2222222222222222,
              "#7201a8"
             ],
             [
              0.3333333333333333,
              "#9c179e"
             ],
             [
              0.4444444444444444,
              "#bd3786"
             ],
             [
              0.5555555555555556,
              "#d8576b"
             ],
             [
              0.6666666666666666,
              "#ed7953"
             ],
             [
              0.7777777777777778,
              "#fb9f3a"
             ],
             [
              0.8888888888888888,
              "#fdca26"
             ],
             [
              1,
              "#f0f921"
             ]
            ],
            "type": "surface"
           }
          ],
          "table": [
           {
            "cells": {
             "fill": {
              "color": "#EBF0F8"
             },
             "line": {
              "color": "white"
             }
            },
            "header": {
             "fill": {
              "color": "#C8D4E3"
             },
             "line": {
              "color": "white"
             }
            },
            "type": "table"
           }
          ]
         },
         "layout": {
          "annotationdefaults": {
           "arrowcolor": "#2a3f5f",
           "arrowhead": 0,
           "arrowwidth": 1
          },
          "autotypenumbers": "strict",
          "coloraxis": {
           "colorbar": {
            "outlinewidth": 0,
            "ticks": ""
           }
          },
          "colorscale": {
           "diverging": [
            [
             0,
             "#8e0152"
            ],
            [
             0.1,
             "#c51b7d"
            ],
            [
             0.2,
             "#de77ae"
            ],
            [
             0.3,
             "#f1b6da"
            ],
            [
             0.4,
             "#fde0ef"
            ],
            [
             0.5,
             "#f7f7f7"
            ],
            [
             0.6,
             "#e6f5d0"
            ],
            [
             0.7,
             "#b8e186"
            ],
            [
             0.8,
             "#7fbc41"
            ],
            [
             0.9,
             "#4d9221"
            ],
            [
             1,
             "#276419"
            ]
           ],
           "sequential": [
            [
             0,
             "#0d0887"
            ],
            [
             0.1111111111111111,
             "#46039f"
            ],
            [
             0.2222222222222222,
             "#7201a8"
            ],
            [
             0.3333333333333333,
             "#9c179e"
            ],
            [
             0.4444444444444444,
             "#bd3786"
            ],
            [
             0.5555555555555556,
             "#d8576b"
            ],
            [
             0.6666666666666666,
             "#ed7953"
            ],
            [
             0.7777777777777778,
             "#fb9f3a"
            ],
            [
             0.8888888888888888,
             "#fdca26"
            ],
            [
             1,
             "#f0f921"
            ]
           ],
           "sequentialminus": [
            [
             0,
             "#0d0887"
            ],
            [
             0.1111111111111111,
             "#46039f"
            ],
            [
             0.2222222222222222,
             "#7201a8"
            ],
            [
             0.3333333333333333,
             "#9c179e"
            ],
            [
             0.4444444444444444,
             "#bd3786"
            ],
            [
             0.5555555555555556,
             "#d8576b"
            ],
            [
             0.6666666666666666,
             "#ed7953"
            ],
            [
             0.7777777777777778,
             "#fb9f3a"
            ],
            [
             0.8888888888888888,
             "#fdca26"
            ],
            [
             1,
             "#f0f921"
            ]
           ]
          },
          "colorway": [
           "#636efa",
           "#EF553B",
           "#00cc96",
           "#ab63fa",
           "#FFA15A",
           "#19d3f3",
           "#FF6692",
           "#B6E880",
           "#FF97FF",
           "#FECB52"
          ],
          "font": {
           "color": "#2a3f5f"
          },
          "geo": {
           "bgcolor": "white",
           "lakecolor": "white",
           "landcolor": "white",
           "showlakes": true,
           "showland": true,
           "subunitcolor": "#C8D4E3"
          },
          "hoverlabel": {
           "align": "left"
          },
          "hovermode": "closest",
          "mapbox": {
           "style": "light"
          },
          "paper_bgcolor": "white",
          "plot_bgcolor": "white",
          "polar": {
           "angularaxis": {
            "gridcolor": "#EBF0F8",
            "linecolor": "#EBF0F8",
            "ticks": ""
           },
           "bgcolor": "white",
           "radialaxis": {
            "gridcolor": "#EBF0F8",
            "linecolor": "#EBF0F8",
            "ticks": ""
           }
          },
          "scene": {
           "xaxis": {
            "backgroundcolor": "white",
            "gridcolor": "#DFE8F3",
            "gridwidth": 2,
            "linecolor": "#EBF0F8",
            "showbackground": true,
            "ticks": "",
            "zerolinecolor": "#EBF0F8"
           },
           "yaxis": {
            "backgroundcolor": "white",
            "gridcolor": "#DFE8F3",
            "gridwidth": 2,
            "linecolor": "#EBF0F8",
            "showbackground": true,
            "ticks": "",
            "zerolinecolor": "#EBF0F8"
           },
           "zaxis": {
            "backgroundcolor": "white",
            "gridcolor": "#DFE8F3",
            "gridwidth": 2,
            "linecolor": "#EBF0F8",
            "showbackground": true,
            "ticks": "",
            "zerolinecolor": "#EBF0F8"
           }
          },
          "shapedefaults": {
           "line": {
            "color": "#2a3f5f"
           }
          },
          "ternary": {
           "aaxis": {
            "gridcolor": "#DFE8F3",
            "linecolor": "#A2B1C6",
            "ticks": ""
           },
           "baxis": {
            "gridcolor": "#DFE8F3",
            "linecolor": "#A2B1C6",
            "ticks": ""
           },
           "bgcolor": "white",
           "caxis": {
            "gridcolor": "#DFE8F3",
            "linecolor": "#A2B1C6",
            "ticks": ""
           }
          },
          "title": {
           "x": 0.05
          },
          "xaxis": {
           "automargin": true,
           "gridcolor": "#EBF0F8",
           "linecolor": "#EBF0F8",
           "ticks": "",
           "title": {
            "standoff": 15
           },
           "zerolinecolor": "#EBF0F8",
           "zerolinewidth": 2
          },
          "yaxis": {
           "automargin": true,
           "gridcolor": "#EBF0F8",
           "linecolor": "#EBF0F8",
           "ticks": "",
           "title": {
            "standoff": 15
           },
           "zerolinecolor": "#EBF0F8",
           "zerolinewidth": 2
          }
         }
        },
        "title": {
         "text": "소매업 추이"
        },
        "xaxis": {
         "tickmode": "linear",
         "title": {
          "text": "년도"
         }
        },
        "yaxis": {
         "title": {
          "text": "매출액"
         }
        }
       }
      }
     },
     "metadata": {},
     "output_type": "display_data"
    }
   ],
   "source": [
    "for option in data[\"자치구별(1).1\"].unique():\n",
    "  extracted_data = extracting_data(data, option)\n",
    "  vis_lineplot(extracted_data, f\"{option} 추이\")"
   ]
  },
  {
   "cell_type": "code",
   "execution_count": null,
   "metadata": {},
   "outputs": [],
   "source": []
  }
 ],
 "metadata": {
  "kernelspec": {
   "display_name": "base",
   "language": "python",
   "name": "python3"
  },
  "language_info": {
   "codemirror_mode": {
    "name": "ipython",
    "version": 3
   },
   "file_extension": ".py",
   "mimetype": "text/x-python",
   "name": "python",
   "nbconvert_exporter": "python",
   "pygments_lexer": "ipython3",
   "version": "3.10.9"
  }
 },
 "nbformat": 4,
 "nbformat_minor": 2
}
